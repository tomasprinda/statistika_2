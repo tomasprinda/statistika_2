{
 "cells": [
  {
   "cell_type": "code",
   "execution_count": 21,
   "id": "1684010b",
   "metadata": {},
   "outputs": [],
   "source": [
    "import pandas as pd\n",
    "import numpy as np\n",
    "from scipy import stats\n",
    "import matplotlib.pyplot as plt\n",
    "import plotly.express as px\n",
    "import plotly.graph_objects as go\n",
    "import tabulate"
   ]
  },
  {
   "cell_type": "code",
   "execution_count": 4,
   "id": "6a36c6c6",
   "metadata": {},
   "outputs": [
    {
     "data": {
      "text/html": [
       "<div>\n",
       "<style scoped>\n",
       "    .dataframe tbody tr th:only-of-type {\n",
       "        vertical-align: middle;\n",
       "    }\n",
       "\n",
       "    .dataframe tbody tr th {\n",
       "        vertical-align: top;\n",
       "    }\n",
       "\n",
       "    .dataframe thead th {\n",
       "        text-align: right;\n",
       "    }\n",
       "</style>\n",
       "<table border=\"1\" class=\"dataframe\">\n",
       "  <thead>\n",
       "    <tr style=\"text-align: right;\">\n",
       "      <th></th>\n",
       "      <th>Pohlavi</th>\n",
       "      <th>Neuroticismus</th>\n",
       "      <th>Extraverze</th>\n",
       "      <th>Otevrenost_vuci_zkusenosti</th>\n",
       "      <th>Privetivost</th>\n",
       "      <th>Svedomitost</th>\n",
       "      <th>RSES</th>\n",
       "    </tr>\n",
       "    <tr>\n",
       "      <th>#</th>\n",
       "      <th></th>\n",
       "      <th></th>\n",
       "      <th></th>\n",
       "      <th></th>\n",
       "      <th></th>\n",
       "      <th></th>\n",
       "      <th></th>\n",
       "    </tr>\n",
       "  </thead>\n",
       "  <tbody>\n",
       "    <tr>\n",
       "      <th>1</th>\n",
       "      <td>1</td>\n",
       "      <td>29</td>\n",
       "      <td>38</td>\n",
       "      <td>40</td>\n",
       "      <td>29</td>\n",
       "      <td>27</td>\n",
       "      <td>17</td>\n",
       "    </tr>\n",
       "    <tr>\n",
       "      <th>11</th>\n",
       "      <td>1</td>\n",
       "      <td>2</td>\n",
       "      <td>43</td>\n",
       "      <td>33</td>\n",
       "      <td>26</td>\n",
       "      <td>44</td>\n",
       "      <td>19</td>\n",
       "    </tr>\n",
       "    <tr>\n",
       "      <th>27</th>\n",
       "      <td>0</td>\n",
       "      <td>31</td>\n",
       "      <td>44</td>\n",
       "      <td>43</td>\n",
       "      <td>42</td>\n",
       "      <td>34</td>\n",
       "      <td>18</td>\n",
       "    </tr>\n",
       "    <tr>\n",
       "      <th>33</th>\n",
       "      <td>1</td>\n",
       "      <td>10</td>\n",
       "      <td>34</td>\n",
       "      <td>31</td>\n",
       "      <td>40</td>\n",
       "      <td>38</td>\n",
       "      <td>24</td>\n",
       "    </tr>\n",
       "    <tr>\n",
       "      <th>36</th>\n",
       "      <td>0</td>\n",
       "      <td>10</td>\n",
       "      <td>33</td>\n",
       "      <td>30</td>\n",
       "      <td>42</td>\n",
       "      <td>42</td>\n",
       "      <td>20</td>\n",
       "    </tr>\n",
       "    <tr>\n",
       "      <th>...</th>\n",
       "      <td>...</td>\n",
       "      <td>...</td>\n",
       "      <td>...</td>\n",
       "      <td>...</td>\n",
       "      <td>...</td>\n",
       "      <td>...</td>\n",
       "      <td>...</td>\n",
       "    </tr>\n",
       "    <tr>\n",
       "      <th>958</th>\n",
       "      <td>0</td>\n",
       "      <td>16</td>\n",
       "      <td>40</td>\n",
       "      <td>30</td>\n",
       "      <td>29</td>\n",
       "      <td>32</td>\n",
       "      <td>19</td>\n",
       "    </tr>\n",
       "    <tr>\n",
       "      <th>960</th>\n",
       "      <td>0</td>\n",
       "      <td>17</td>\n",
       "      <td>43</td>\n",
       "      <td>28</td>\n",
       "      <td>33</td>\n",
       "      <td>37</td>\n",
       "      <td>17</td>\n",
       "    </tr>\n",
       "    <tr>\n",
       "      <th>967</th>\n",
       "      <td>0</td>\n",
       "      <td>22</td>\n",
       "      <td>37</td>\n",
       "      <td>29</td>\n",
       "      <td>38</td>\n",
       "      <td>33</td>\n",
       "      <td>20</td>\n",
       "    </tr>\n",
       "    <tr>\n",
       "      <th>968</th>\n",
       "      <td>0</td>\n",
       "      <td>19</td>\n",
       "      <td>34</td>\n",
       "      <td>41</td>\n",
       "      <td>21</td>\n",
       "      <td>34</td>\n",
       "      <td>18</td>\n",
       "    </tr>\n",
       "    <tr>\n",
       "      <th>988</th>\n",
       "      <td>1</td>\n",
       "      <td>28</td>\n",
       "      <td>32</td>\n",
       "      <td>41</td>\n",
       "      <td>39</td>\n",
       "      <td>37</td>\n",
       "      <td>22</td>\n",
       "    </tr>\n",
       "  </tbody>\n",
       "</table>\n",
       "<p>120 rows × 7 columns</p>\n",
       "</div>"
      ],
      "text/plain": [
       "     Pohlavi  Neuroticismus  Extraverze  Otevrenost_vuci_zkusenosti  \\\n",
       "#                                                                     \n",
       "1          1             29          38                          40   \n",
       "11         1              2          43                          33   \n",
       "27         0             31          44                          43   \n",
       "33         1             10          34                          31   \n",
       "36         0             10          33                          30   \n",
       "..       ...            ...         ...                         ...   \n",
       "958        0             16          40                          30   \n",
       "960        0             17          43                          28   \n",
       "967        0             22          37                          29   \n",
       "968        0             19          34                          41   \n",
       "988        1             28          32                          41   \n",
       "\n",
       "     Privetivost  Svedomitost  RSES  \n",
       "#                                    \n",
       "1             29           27    17  \n",
       "11            26           44    19  \n",
       "27            42           34    18  \n",
       "33            40           38    24  \n",
       "36            42           42    20  \n",
       "..           ...          ...   ...  \n",
       "958           29           32    19  \n",
       "960           33           37    17  \n",
       "967           38           33    20  \n",
       "968           21           34    18  \n",
       "988           39           37    22  \n",
       "\n",
       "[120 rows x 7 columns]"
      ]
     },
     "execution_count": 4,
     "metadata": {},
     "output_type": "execute_result"
    }
   ],
   "source": [
    "df = pd.read_csv(\"data.csv\", index_col=0, delimiter=\";\")\n",
    "df"
   ]
  },
  {
   "cell_type": "code",
   "execution_count": 11,
   "id": "d2fa551a",
   "metadata": {},
   "outputs": [],
   "source": [
    "df_women = df.query(\"Pohlavi == 0\")\n",
    "df_men = df.query(\"Pohlavi == 1\")\n",
    "df_neo = df[[\"Neuroticismus\", \"Extraverze\", \"Otevrenost_vuci_zkusenosti\", \"Privetivost\", \"Svedomitost\"]]"
   ]
  },
  {
   "cell_type": "code",
   "execution_count": 6,
   "id": "3f657c55",
   "metadata": {},
   "outputs": [
    {
     "data": {
      "text/html": [
       "<div>\n",
       "<style scoped>\n",
       "    .dataframe tbody tr th:only-of-type {\n",
       "        vertical-align: middle;\n",
       "    }\n",
       "\n",
       "    .dataframe tbody tr th {\n",
       "        vertical-align: top;\n",
       "    }\n",
       "\n",
       "    .dataframe thead th {\n",
       "        text-align: right;\n",
       "    }\n",
       "</style>\n",
       "<table border=\"1\" class=\"dataframe\">\n",
       "  <thead>\n",
       "    <tr style=\"text-align: right;\">\n",
       "      <th></th>\n",
       "      <th>Pohlavi</th>\n",
       "      <th>Neuroticismus</th>\n",
       "      <th>Extraverze</th>\n",
       "      <th>Otevrenost_vuci_zkusenosti</th>\n",
       "      <th>Privetivost</th>\n",
       "      <th>Svedomitost</th>\n",
       "      <th>RSES</th>\n",
       "    </tr>\n",
       "  </thead>\n",
       "  <tbody>\n",
       "    <tr>\n",
       "      <th>count</th>\n",
       "      <td>26.0</td>\n",
       "      <td>26.000000</td>\n",
       "      <td>26.000000</td>\n",
       "      <td>26.000000</td>\n",
       "      <td>26.000000</td>\n",
       "      <td>26.000000</td>\n",
       "      <td>26.000000</td>\n",
       "    </tr>\n",
       "    <tr>\n",
       "      <th>mean</th>\n",
       "      <td>1.0</td>\n",
       "      <td>21.846154</td>\n",
       "      <td>30.153846</td>\n",
       "      <td>34.653846</td>\n",
       "      <td>28.769231</td>\n",
       "      <td>30.884615</td>\n",
       "      <td>20.192308</td>\n",
       "    </tr>\n",
       "    <tr>\n",
       "      <th>std</th>\n",
       "      <td>0.0</td>\n",
       "      <td>9.181252</td>\n",
       "      <td>6.649465</td>\n",
       "      <td>4.824457</td>\n",
       "      <td>6.742745</td>\n",
       "      <td>7.355689</td>\n",
       "      <td>5.083457</td>\n",
       "    </tr>\n",
       "    <tr>\n",
       "      <th>min</th>\n",
       "      <td>1.0</td>\n",
       "      <td>2.000000</td>\n",
       "      <td>20.000000</td>\n",
       "      <td>24.000000</td>\n",
       "      <td>17.000000</td>\n",
       "      <td>17.000000</td>\n",
       "      <td>10.000000</td>\n",
       "    </tr>\n",
       "    <tr>\n",
       "      <th>25%</th>\n",
       "      <td>1.0</td>\n",
       "      <td>16.250000</td>\n",
       "      <td>24.000000</td>\n",
       "      <td>32.250000</td>\n",
       "      <td>23.250000</td>\n",
       "      <td>26.250000</td>\n",
       "      <td>16.250000</td>\n",
       "    </tr>\n",
       "    <tr>\n",
       "      <th>50%</th>\n",
       "      <td>1.0</td>\n",
       "      <td>21.500000</td>\n",
       "      <td>32.000000</td>\n",
       "      <td>34.000000</td>\n",
       "      <td>29.000000</td>\n",
       "      <td>30.500000</td>\n",
       "      <td>19.500000</td>\n",
       "    </tr>\n",
       "    <tr>\n",
       "      <th>75%</th>\n",
       "      <td>1.0</td>\n",
       "      <td>29.000000</td>\n",
       "      <td>35.500000</td>\n",
       "      <td>37.000000</td>\n",
       "      <td>33.500000</td>\n",
       "      <td>37.000000</td>\n",
       "      <td>24.000000</td>\n",
       "    </tr>\n",
       "    <tr>\n",
       "      <th>max</th>\n",
       "      <td>1.0</td>\n",
       "      <td>42.000000</td>\n",
       "      <td>43.000000</td>\n",
       "      <td>44.000000</td>\n",
       "      <td>40.000000</td>\n",
       "      <td>44.000000</td>\n",
       "      <td>31.000000</td>\n",
       "    </tr>\n",
       "  </tbody>\n",
       "</table>\n",
       "</div>"
      ],
      "text/plain": [
       "       Pohlavi  Neuroticismus  Extraverze  Otevrenost_vuci_zkusenosti  \\\n",
       "count     26.0      26.000000   26.000000                   26.000000   \n",
       "mean       1.0      21.846154   30.153846                   34.653846   \n",
       "std        0.0       9.181252    6.649465                    4.824457   \n",
       "min        1.0       2.000000   20.000000                   24.000000   \n",
       "25%        1.0      16.250000   24.000000                   32.250000   \n",
       "50%        1.0      21.500000   32.000000                   34.000000   \n",
       "75%        1.0      29.000000   35.500000                   37.000000   \n",
       "max        1.0      42.000000   43.000000                   44.000000   \n",
       "\n",
       "       Privetivost  Svedomitost       RSES  \n",
       "count    26.000000    26.000000  26.000000  \n",
       "mean     28.769231    30.884615  20.192308  \n",
       "std       6.742745     7.355689   5.083457  \n",
       "min      17.000000    17.000000  10.000000  \n",
       "25%      23.250000    26.250000  16.250000  \n",
       "50%      29.000000    30.500000  19.500000  \n",
       "75%      33.500000    37.000000  24.000000  \n",
       "max      40.000000    44.000000  31.000000  "
      ]
     },
     "execution_count": 6,
     "metadata": {},
     "output_type": "execute_result"
    }
   ],
   "source": [
    "df_men.describe()"
   ]
  },
  {
   "cell_type": "code",
   "execution_count": 7,
   "id": "2a48b115",
   "metadata": {},
   "outputs": [
    {
     "data": {
      "text/html": [
       "<div>\n",
       "<style scoped>\n",
       "    .dataframe tbody tr th:only-of-type {\n",
       "        vertical-align: middle;\n",
       "    }\n",
       "\n",
       "    .dataframe tbody tr th {\n",
       "        vertical-align: top;\n",
       "    }\n",
       "\n",
       "    .dataframe thead th {\n",
       "        text-align: right;\n",
       "    }\n",
       "</style>\n",
       "<table border=\"1\" class=\"dataframe\">\n",
       "  <thead>\n",
       "    <tr style=\"text-align: right;\">\n",
       "      <th></th>\n",
       "      <th>Pohlavi</th>\n",
       "      <th>Neuroticismus</th>\n",
       "      <th>Extraverze</th>\n",
       "      <th>Otevrenost_vuci_zkusenosti</th>\n",
       "      <th>Privetivost</th>\n",
       "      <th>Svedomitost</th>\n",
       "      <th>RSES</th>\n",
       "    </tr>\n",
       "  </thead>\n",
       "  <tbody>\n",
       "    <tr>\n",
       "      <th>count</th>\n",
       "      <td>94.0</td>\n",
       "      <td>94.000000</td>\n",
       "      <td>94.000000</td>\n",
       "      <td>94.000000</td>\n",
       "      <td>94.000000</td>\n",
       "      <td>94.000000</td>\n",
       "      <td>94.000000</td>\n",
       "    </tr>\n",
       "    <tr>\n",
       "      <th>mean</th>\n",
       "      <td>0.0</td>\n",
       "      <td>26.691489</td>\n",
       "      <td>29.893617</td>\n",
       "      <td>32.744681</td>\n",
       "      <td>30.000000</td>\n",
       "      <td>30.159574</td>\n",
       "      <td>17.851064</td>\n",
       "    </tr>\n",
       "    <tr>\n",
       "      <th>std</th>\n",
       "      <td>0.0</td>\n",
       "      <td>8.965917</td>\n",
       "      <td>8.542705</td>\n",
       "      <td>5.587883</td>\n",
       "      <td>6.051748</td>\n",
       "      <td>7.278342</td>\n",
       "      <td>4.832590</td>\n",
       "    </tr>\n",
       "    <tr>\n",
       "      <th>min</th>\n",
       "      <td>0.0</td>\n",
       "      <td>6.000000</td>\n",
       "      <td>10.000000</td>\n",
       "      <td>20.000000</td>\n",
       "      <td>13.000000</td>\n",
       "      <td>9.000000</td>\n",
       "      <td>4.000000</td>\n",
       "    </tr>\n",
       "    <tr>\n",
       "      <th>25%</th>\n",
       "      <td>0.0</td>\n",
       "      <td>19.250000</td>\n",
       "      <td>24.250000</td>\n",
       "      <td>29.000000</td>\n",
       "      <td>26.000000</td>\n",
       "      <td>26.000000</td>\n",
       "      <td>14.000000</td>\n",
       "    </tr>\n",
       "    <tr>\n",
       "      <th>50%</th>\n",
       "      <td>0.0</td>\n",
       "      <td>27.000000</td>\n",
       "      <td>31.000000</td>\n",
       "      <td>33.000000</td>\n",
       "      <td>30.000000</td>\n",
       "      <td>31.500000</td>\n",
       "      <td>18.000000</td>\n",
       "    </tr>\n",
       "    <tr>\n",
       "      <th>75%</th>\n",
       "      <td>0.0</td>\n",
       "      <td>33.000000</td>\n",
       "      <td>36.000000</td>\n",
       "      <td>37.750000</td>\n",
       "      <td>34.000000</td>\n",
       "      <td>35.750000</td>\n",
       "      <td>21.000000</td>\n",
       "    </tr>\n",
       "    <tr>\n",
       "      <th>max</th>\n",
       "      <td>0.0</td>\n",
       "      <td>45.000000</td>\n",
       "      <td>46.000000</td>\n",
       "      <td>43.000000</td>\n",
       "      <td>42.000000</td>\n",
       "      <td>44.000000</td>\n",
       "      <td>31.000000</td>\n",
       "    </tr>\n",
       "  </tbody>\n",
       "</table>\n",
       "</div>"
      ],
      "text/plain": [
       "       Pohlavi  Neuroticismus  Extraverze  Otevrenost_vuci_zkusenosti  \\\n",
       "count     94.0      94.000000   94.000000                   94.000000   \n",
       "mean       0.0      26.691489   29.893617                   32.744681   \n",
       "std        0.0       8.965917    8.542705                    5.587883   \n",
       "min        0.0       6.000000   10.000000                   20.000000   \n",
       "25%        0.0      19.250000   24.250000                   29.000000   \n",
       "50%        0.0      27.000000   31.000000                   33.000000   \n",
       "75%        0.0      33.000000   36.000000                   37.750000   \n",
       "max        0.0      45.000000   46.000000                   43.000000   \n",
       "\n",
       "       Privetivost  Svedomitost       RSES  \n",
       "count    94.000000    94.000000  94.000000  \n",
       "mean     30.000000    30.159574  17.851064  \n",
       "std       6.051748     7.278342   4.832590  \n",
       "min      13.000000     9.000000   4.000000  \n",
       "25%      26.000000    26.000000  14.000000  \n",
       "50%      30.000000    31.500000  18.000000  \n",
       "75%      34.000000    35.750000  21.000000  \n",
       "max      42.000000    44.000000  31.000000  "
      ]
     },
     "execution_count": 7,
     "metadata": {},
     "output_type": "execute_result"
    }
   ],
   "source": [
    "df_women.describe()"
   ]
  },
  {
   "cell_type": "markdown",
   "id": "a9863b41",
   "metadata": {},
   "source": [
    "Statistical tests scipy: https://docs.scipy.org/doc/scipy/reference/stats.html#statistical-tests\n"
   ]
  },
  {
   "cell_type": "markdown",
   "id": "4cb853a4",
   "metadata": {},
   "source": [
    "# Úkol 8: Testy Pearsonova korelačního koeficientu\n",
    "Souboru vysokoškolských studentů byl administrován dotazník NEO Pětifaktorový osobnostní inventář a Rosenbergova škála sebehodnocení (RSES). Pomocí Personova korelačního koeficientu ověřte následující hypotézy.\n",
    "\n",
    "====================================================="
   ]
  },
  {
   "cell_type": "markdown",
   "id": "9ec2b91e",
   "metadata": {},
   "source": [
    "Jaká je velikost Pearsonova korelačního koeficientu počtu bodů na škále RSES a na škále Extraverze?"
   ]
  },
  {
   "cell_type": "markdown",
   "id": "d43d6c0f",
   "metadata": {},
   "source": [
    "Otestujte hypotézu o tom, jestli je korelační koeficient dvou výše uvedených náhodných veličin roven nule, a uveďte nalezenou p-hodnotu."
   ]
  },
  {
   "cell_type": "code",
   "execution_count": 9,
   "id": "fd27c4bf",
   "metadata": {},
   "outputs": [
    {
     "data": {
      "text/plain": [
       "(0.2790983065735647, 0.0020222037497721374)"
      ]
     },
     "execution_count": 9,
     "metadata": {},
     "output_type": "execute_result"
    }
   ],
   "source": [
    "a = df[\"RSES\"].values\n",
    "b = df[\"Extraverze\"].values\n",
    "\n",
    "stats.pearsonr(a, b)"
   ]
  },
  {
   "cell_type": "markdown",
   "id": "9cd6588b",
   "metadata": {},
   "source": [
    "Jaká je velikost Pearsonova korelačního koeficientu počtu bodů na škále RSES a na škále Přívětivost?"
   ]
  },
  {
   "cell_type": "markdown",
   "id": "d64d3030",
   "metadata": {},
   "source": [
    "Otestujte hypotézu o tom, jestli je korelační koeficient dvou výše uvedených náhodných veličin roven nule, a uveďte nalezenou p-hodnotu."
   ]
  },
  {
   "cell_type": "code",
   "execution_count": 10,
   "id": "38ef079f",
   "metadata": {},
   "outputs": [
    {
     "data": {
      "text/plain": [
       "(0.10312223121864428, 0.26236680375647264)"
      ]
     },
     "execution_count": 10,
     "metadata": {},
     "output_type": "execute_result"
    }
   ],
   "source": [
    "a = df[\"RSES\"].values\n",
    "b = df[\"Privetivost\"].values\n",
    "\n",
    "stats.pearsonr(a, b)"
   ]
  },
  {
   "cell_type": "markdown",
   "id": "4ffdba77",
   "metadata": {},
   "source": [
    "Mezi kterými dvěma osobnostními dimenzemi existuje nejmenší míra závislosti? Uveďte pozorovaný korelační koeficient."
   ]
  },
  {
   "cell_type": "code",
   "execution_count": 20,
   "id": "bdc58927",
   "metadata": {},
   "outputs": [
    {
     "data": {
      "text/html": [
       "<table>\n",
       "<thead>\n",
       "<tr><th style=\"text-align: right;\">  Neuroticismus</th><th style=\"text-align: right;\">  Extraverze</th><th style=\"text-align: right;\">  Otevrenost_vuci_zkusenosti</th><th style=\"text-align: right;\">  Privetivost</th><th style=\"text-align: right;\">  Svedomitost</th></tr>\n",
       "</thead>\n",
       "<tbody>\n",
       "<tr><td style=\"text-align: right;\">      1        </td><td style=\"text-align: right;\">   -0.43101 </td><td style=\"text-align: right;\">                   0.0564433</td><td style=\"text-align: right;\">   -0.221192 </td><td style=\"text-align: right;\">    -0.294442</td></tr>\n",
       "<tr><td style=\"text-align: right;\">     -0.43101  </td><td style=\"text-align: right;\">    1       </td><td style=\"text-align: right;\">                   0.124871 </td><td style=\"text-align: right;\">    0.165001 </td><td style=\"text-align: right;\">     0.202928</td></tr>\n",
       "<tr><td style=\"text-align: right;\">      0.0564433</td><td style=\"text-align: right;\">    0.124871</td><td style=\"text-align: right;\">                   1        </td><td style=\"text-align: right;\">    0.0612304</td><td style=\"text-align: right;\">     0.110731</td></tr>\n",
       "<tr><td style=\"text-align: right;\">     -0.221192 </td><td style=\"text-align: right;\">    0.165001</td><td style=\"text-align: right;\">                   0.0612304</td><td style=\"text-align: right;\">    1        </td><td style=\"text-align: right;\">     0.115062</td></tr>\n",
       "<tr><td style=\"text-align: right;\">     -0.294442 </td><td style=\"text-align: right;\">    0.202928</td><td style=\"text-align: right;\">                   0.110731 </td><td style=\"text-align: right;\">    0.115062 </td><td style=\"text-align: right;\">     1       </td></tr>\n",
       "</tbody>\n",
       "</table>"
      ],
      "text/plain": [
       "'<table>\\n<thead>\\n<tr><th style=\"text-align: right;\">  Neuroticismus</th><th style=\"text-align: right;\">  Extraverze</th><th style=\"text-align: right;\">  Otevrenost_vuci_zkusenosti</th><th style=\"text-align: right;\">  Privetivost</th><th style=\"text-align: right;\">  Svedomitost</th></tr>\\n</thead>\\n<tbody>\\n<tr><td style=\"text-align: right;\">      1        </td><td style=\"text-align: right;\">   -0.43101 </td><td style=\"text-align: right;\">                   0.0564433</td><td style=\"text-align: right;\">   -0.221192 </td><td style=\"text-align: right;\">    -0.294442</td></tr>\\n<tr><td style=\"text-align: right;\">     -0.43101  </td><td style=\"text-align: right;\">    1       </td><td style=\"text-align: right;\">                   0.124871 </td><td style=\"text-align: right;\">    0.165001 </td><td style=\"text-align: right;\">     0.202928</td></tr>\\n<tr><td style=\"text-align: right;\">      0.0564433</td><td style=\"text-align: right;\">    0.124871</td><td style=\"text-align: right;\">                   1        </td><td style=\"text-align: right;\">    0.0612304</td><td style=\"text-align: right;\">     0.110731</td></tr>\\n<tr><td style=\"text-align: right;\">     -0.221192 </td><td style=\"text-align: right;\">    0.165001</td><td style=\"text-align: right;\">                   0.0612304</td><td style=\"text-align: right;\">    1        </td><td style=\"text-align: right;\">     0.115062</td></tr>\\n<tr><td style=\"text-align: right;\">     -0.294442 </td><td style=\"text-align: right;\">    0.202928</td><td style=\"text-align: right;\">                   0.110731 </td><td style=\"text-align: right;\">    0.115062 </td><td style=\"text-align: right;\">     1       </td></tr>\\n</tbody>\\n</table>'"
      ]
     },
     "metadata": {},
     "output_type": "display_data"
    },
    {
     "data": {
      "text/plain": [
       "1.0"
      ]
     },
     "execution_count": 20,
     "metadata": {},
     "output_type": "execute_result"
    }
   ],
   "source": [
    "cor_coef = np.corrcoef(df_neo.T)\n",
    "table = tabulate.tabulate(cor_coef, tablefmt='html', headers=df_neo.columns)\n",
    "display(table)"
   ]
  },
  {
   "cell_type": "markdown",
   "id": "772026c9",
   "metadata": {},
   "source": [
    "S jakou osobnostní dimenzí sdílí RSES nejvíce rozptylu? Kolik procent ho sdílí? (Uveďte jako desetinné číslo mezi 0 a 1.)"
   ]
  },
  {
   "cell_type": "markdown",
   "id": "ba3b2947",
   "metadata": {},
   "source": [
    "(Skripta, str 115)"
   ]
  },
  {
   "cell_type": "code",
   "execution_count": 26,
   "id": "a4c8dc0f",
   "metadata": {},
   "outputs": [
    {
     "name": "stdout",
     "output_type": "stream",
     "text": [
      "r2(RSES, Neuroticismus)=0.2929575571364461\n",
      "r2(RSES, Extraverze)=0.07789586473223152\n",
      "r2(RSES, Otevrenost_vuci_zkusenosti)=0.005063787509312278\n",
      "r2(RSES, Privetivost)=0.010634194571511532\n",
      "r2(RSES, Svedomitost)=0.036702290205977255\n"
     ]
    }
   ],
   "source": [
    "for col in df_neo.columns:\n",
    "    person_r, p_value = stats.pearsonr(df[\"RSES\"], df[col])\n",
    "    r2 = person_r**2\n",
    "    print(f\"r2(RSES, {col})={r2}\")"
   ]
  },
  {
   "cell_type": "markdown",
   "id": "3cb3f7ce",
   "metadata": {},
   "source": [
    "Liší se velikost korelačního koeficientu mezi RSES a Neuroticismem v podsouboru mužů a žen? Otestujte pomocí Fisherovy Z transformace a uveďte nalezenou p-hodnotu (pro její zjištění použijte t rozdělení s n+m-4 s.v.)."
   ]
  },
  {
   "cell_type": "markdown",
   "id": "0a3afcee",
   "metadata": {},
   "source": [
    "(Skripta, str. 115 - 116)"
   ]
  },
  {
   "cell_type": "code",
   "execution_count": 35,
   "id": "2c2ff3bc",
   "metadata": {},
   "outputs": [],
   "source": [
    "def fisher_z_transform(r):\n",
    "    return 1 / 2 * np.log((1+r) / (1-r))"
   ]
  },
  {
   "cell_type": "code",
   "execution_count": 36,
   "id": "4f9d73dc",
   "metadata": {},
   "outputs": [
    {
     "name": "stdout",
     "output_type": "stream",
     "text": [
      "r_men=-0.45699780276573515, p_value=0.01892179461151362\n",
      "r_women=-0.5395922427667977, p_value=2.0017606773544608e-08\n",
      "u=-0.47163062132309463, p_value=0.6380763552493098\n"
     ]
    }
   ],
   "source": [
    "a1 = df_men[\"RSES\"].values\n",
    "b1 = df_men[\"Neuroticismus\"].values\n",
    "\n",
    "a2 = df_women[\"RSES\"].values\n",
    "b2 = df_women[\"Neuroticismus\"].values\n",
    "\n",
    "r1, p1 = stats.pearsonr(a1, b1)\n",
    "r2, p2 = stats.pearsonr(a2, b2)\n",
    "print(f\"r_men={r1}, p_value={p1}\")\n",
    "print(f\"r_women={r2}, p_value={p2}\")\n",
    "\n",
    "n1 = len(a1)\n",
    "n2 = len(a2)\n",
    "\n",
    "z1 = fisher_z_transform(r1)\n",
    "z2 = fisher_z_transform(r2)\n",
    "\n",
    "u = (z1 - z2) / np.sqrt( 1/(n1-3) + 1/(n2-3))\n",
    "u = min(u, -u)  # To get left quantile\n",
    "\n",
    "p_value = stats.t.cdf(u, loc=0, scale=1, df=n1+n2-4)\n",
    "p_value *= 2  # Both sided test\n",
    "print(f\"{u=}, {p_value=}\")"
   ]
  },
  {
   "cell_type": "markdown",
   "id": "7487dd0b",
   "metadata": {},
   "source": [
    "Liší se hodnota korelačního koeficientu mezi Extraverzí a Přívětivostí od hodnoty 0.2? Ověřte pomocí Z transformace a uveďte nalezenou p-hodnotu (získanou z normálního rozdělení)."
   ]
  },
  {
   "cell_type": "markdown",
   "id": "c6d4619e",
   "metadata": {},
   "source": [
    "(Skripta, str. 115 - 116)"
   ]
  },
  {
   "cell_type": "code",
   "execution_count": 43,
   "id": "eb8feea2",
   "metadata": {},
   "outputs": [
    {
     "name": "stdout",
     "output_type": "stream",
     "text": [
      "r=0.16500072292241033, p_value=0.07171255950194998\n",
      "u=-0.3916655220725695, p_value=0.6953053681614734\n"
     ]
    }
   ],
   "source": [
    "a = df[\"Extraverze\"].values\n",
    "b = df[\"Privetivost\"].values\n",
    "\n",
    "r0 = 0.2\n",
    "\n",
    "n = len(a)\n",
    "\n",
    "r, p_value = stats.pearsonr(a, b)\n",
    "print(f\"{r=}, {p_value=}\")\n",
    "\n",
    "z0 = fisher_z_transform(r0)\n",
    "z = fisher_z_transform(r)\n",
    "u = (z - z0) * np.sqrt(n-3)\n",
    "u = min(u, -u)  # To get left quantile\n",
    "\n",
    "p_value = stats.norm.cdf(u, loc=0, scale=1)\n",
    "p_value *= 2  # Both sided test\n",
    "print(f\"{u=}, {p_value=}\")"
   ]
  },
  {
   "cell_type": "code",
   "execution_count": null,
   "id": "b71119b2",
   "metadata": {},
   "outputs": [],
   "source": []
  }
 ],
 "metadata": {
  "kernelspec": {
   "display_name": "Python 3 (ipykernel)",
   "language": "python",
   "name": "python3"
  },
  "language_info": {
   "codemirror_mode": {
    "name": "ipython",
    "version": 3
   },
   "file_extension": ".py",
   "mimetype": "text/x-python",
   "name": "python",
   "nbconvert_exporter": "python",
   "pygments_lexer": "ipython3",
   "version": "3.10.0"
  }
 },
 "nbformat": 4,
 "nbformat_minor": 5
}
