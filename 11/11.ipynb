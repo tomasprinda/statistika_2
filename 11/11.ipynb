{
 "cells": [
  {
   "cell_type": "code",
   "execution_count": 1,
   "id": "6c5a32af",
   "metadata": {},
   "outputs": [],
   "source": [
    "import pandas as pd\n",
    "import numpy as np\n",
    "from scipy import stats\n",
    "import matplotlib.pyplot as plt\n",
    "import plotly.express as px\n",
    "import plotly.graph_objects as go\n",
    "import tabulate\n",
    "from collections import  namedtuple\n",
    "from statsmodels.stats.power import TTestIndPower, TTestPower, zt_ind_solve_power"
   ]
  },
  {
   "cell_type": "markdown",
   "id": "f20a1996",
   "metadata": {},
   "source": [
    "### Odkazy na relevantní materiály\n",
    "- [Statistické testy ve scipy](https://docs.scipy.org/doc/scipy/reference/stats.html#statistical-tests)\n",
    "- [Statsmodels dokumentace](https://www.statsmodels.org/dev/index.html)\n",
    "- [Skripta](https://dostal.vyzkum-psychologie.cz/skripta_statistika.pdf)\n",
    "- [Zadání příkladů](https://dostal.vyzkum-psychologie.cz/stat/index.php)"
   ]
  },
  {
   "cell_type": "markdown",
   "id": "90b7f825",
   "metadata": {},
   "source": [
    "# Úkol 11: Analýza síly testu\n",
    "Plánujeme realizaci dvou výzkumných designů.\n",
    "\n",
    "První z nich je experiment a budeme v něm pomocí t-testu pro dva nezávislé výběry srovnávat kontrolní a experimentální skupinu. Jelikož se jedná o replikaci dříve provedené studie, máme k dispozici přesnou hodnotu očekávané míry účinku delta.\n",
    "\n",
    "Druhý výzkum je dotazníkové šetření, kde chceme zmapovat korelaci mezi výsledky ve dvou psychologických testech. Z literatury známe opět poměrně přesně očekávanou velikost Pearsonova korelačního koeficientu.\n",
    "\n",
    "Očekávané hodnoty měr účinku delta a ró jsou uvedeny níže. Při analýze síly testu korelačního koeficientu použijte Z transformaci (bez jakýchkoli korekcí). Hypotézy budeme testovat jako oboustranné na hladině významnosti alfa = 0.05.\n",
    "\n",
    "\n",
    "---\n",
    "\n",
    "Načtení a vizualizace dat"
   ]
  },
  {
   "cell_type": "code",
   "execution_count": 2,
   "id": "03dc2e3e",
   "metadata": {},
   "outputs": [
    {
     "data": {
      "text/html": [
       "<div>\n",
       "<style scoped>\n",
       "    .dataframe tbody tr th:only-of-type {\n",
       "        vertical-align: middle;\n",
       "    }\n",
       "\n",
       "    .dataframe tbody tr th {\n",
       "        vertical-align: top;\n",
       "    }\n",
       "\n",
       "    .dataframe thead th {\n",
       "        text-align: right;\n",
       "    }\n",
       "</style>\n",
       "<table border=\"1\" class=\"dataframe\">\n",
       "  <thead>\n",
       "    <tr style=\"text-align: right;\">\n",
       "      <th></th>\n",
       "      <th>Delta</th>\n",
       "      <th>Ro</th>\n",
       "    </tr>\n",
       "    <tr>\n",
       "      <th>#</th>\n",
       "      <th></th>\n",
       "      <th></th>\n",
       "    </tr>\n",
       "  </thead>\n",
       "  <tbody>\n",
       "    <tr>\n",
       "      <th>40</th>\n",
       "      <td>1,39</td>\n",
       "      <td>0,63</td>\n",
       "    </tr>\n",
       "  </tbody>\n",
       "</table>\n",
       "</div>"
      ],
      "text/plain": [
       "   Delta    Ro\n",
       "#             \n",
       "40  1,39  0,63"
      ]
     },
     "execution_count": 2,
     "metadata": {},
     "output_type": "execute_result"
    }
   ],
   "source": [
    "df = pd.read_csv(\"data.csv\", index_col=0, delimiter=\";\")\n",
    "df"
   ]
  },
  {
   "cell_type": "code",
   "execution_count": 3,
   "id": "0795220a",
   "metadata": {},
   "outputs": [
    {
     "name": "stdout",
     "output_type": "stream",
     "text": [
      "alpha=0.05, delta=1.39, rho=0.63\n"
     ]
    }
   ],
   "source": [
    "alpha = 0.05\n",
    "delta = float(df.iloc[0][\"Delta\"].replace(\",\", \".\"))\n",
    "rho = float(df.iloc[0][\"Ro\"].replace(\",\", \".\"))\n",
    "\n",
    "print(f\"{alpha=}, {delta=}, {rho=}\")"
   ]
  },
  {
   "cell_type": "markdown",
   "id": "399bf614",
   "metadata": {},
   "source": [
    "---\n",
    "\n",
    "Jakou sílu bude mít t-test pro dva výběry z první studie, pokud máme k dispozici dvě skupiny, každou o rozsahu 11 jedinců?"
   ]
  },
  {
   "cell_type": "code",
   "execution_count": 4,
   "id": "0d2ede85",
   "metadata": {},
   "outputs": [
    {
     "data": {
      "text/plain": [
       "0.8728305913865801"
      ]
     },
     "execution_count": 4,
     "metadata": {},
     "output_type": "execute_result"
    }
   ],
   "source": [
    "n1 = 11\n",
    "n2 = 11\n",
    "ratio = n2/n1\n",
    "\n",
    "test = TTestIndPower()\n",
    "test.power(effect_size=delta, alpha=alpha, nobs1=n1, ratio=ratio)"
   ]
  },
  {
   "cell_type": "markdown",
   "id": "e26a9e17",
   "metadata": {},
   "source": [
    "[(Skripta, str. 127)](https://dostal.vyzkum-psychologie.cz/skripta_statistika.pdf#page=127)"
   ]
  },
  {
   "cell_type": "markdown",
   "id": "e1cc478a",
   "metadata": {},
   "source": [
    "Jaký rozsah skupin budeme potřebovat, když chceme v první studii dosáhnout síly testu nejméně 0.9. Předpokládejme stejně velké skupiny, uveďte rozsah jedné z nich."
   ]
  },
  {
   "cell_type": "code",
   "execution_count": 5,
   "id": "07d130a5",
   "metadata": {},
   "outputs": [
    {
     "name": "stdout",
     "output_type": "stream",
     "text": [
      "nobs1=11.92444142277259, nobs1_ceil=12\n"
     ]
    }
   ],
   "source": [
    "desired_power = 0.9\n",
    "\n",
    "test = TTestIndPower()\n",
    "nobs1 = test.solve_power(effect_size=delta, alpha=alpha, nobs1=None, ratio=ratio, power=desired_power)\n",
    "nobs1_ceil = int(np.ceil(nobs1))\n",
    "print(f\"{nobs1=}, {nobs1_ceil=}\")\n"
   ]
  },
  {
   "cell_type": "markdown",
   "id": "6561362e",
   "metadata": {},
   "source": [
    "Jak velký soubor budeme potřebovat, když design první studie změníme tak, že místo kontrolní skupiny použijeme hodnotu z dřívějšího rozsáhlého šetření. Míra účinku zůstává stejná."
   ]
  },
  {
   "cell_type": "code",
   "execution_count": 6,
   "id": "4845f255",
   "metadata": {},
   "outputs": [
    {
     "name": "stdout",
     "output_type": "stream",
     "text": [
      "nobs=7.6136427640618916, nobs_ceil=8\n"
     ]
    }
   ],
   "source": [
    "desired_power = 0.9\n",
    "\n",
    "test = TTestPower()\n",
    "nobs = test.solve_power(effect_size=delta, alpha=alpha, nobs=None, power=desired_power)\n",
    "nobs_ceil = int(np.ceil(nobs))\n",
    "print(f\"{nobs=}, {nobs_ceil=}\")"
   ]
  },
  {
   "cell_type": "markdown",
   "id": "e46535a1",
   "metadata": {},
   "source": [
    "Jakou sílu bude mít test korelačního koeficientu z druhé studie, když máme k dispozici 60 párových měření?"
   ]
  },
  {
   "cell_type": "code",
   "execution_count": 7,
   "id": "daad0b10",
   "metadata": {},
   "outputs": [
    {
     "name": "stdout",
     "output_type": "stream",
     "text": [
      "power=0.9998624075702673\n"
     ]
    }
   ],
   "source": [
    "nobs = 60\n",
    "\n",
    "def fisher_z_transform(r, n):\n",
    "    return 1 / 2 * np.log((1+r) / (1-r)) * np.sqrt(n - 3)\n",
    "\n",
    "def z_power(rho, alpha, n):\n",
    "    u = fisher_z_transform(rho, n)\n",
    "    theta_1 = stats.norm.ppf(1-(alpha/2))\n",
    "    theta_2 = stats.norm.ppf(alpha/2)\n",
    "    power = 1 - stats.norm.cdf(theta_1 - u) + stats.norm.cdf(theta_2 - u)\n",
    "    return power\n",
    "\n",
    "power = z_power(rho, alpha, nobs)\n",
    "print(f\"{power=}\")"
   ]
  },
  {
   "cell_type": "markdown",
   "id": "507dfdc1",
   "metadata": {},
   "source": [
    "[(Skripta, str. 133)](https://dostal.vyzkum-psychologie.cz/skripta_statistika.pdf#page=133)"
   ]
  },
  {
   "cell_type": "markdown",
   "id": "c53bced1",
   "metadata": {},
   "source": [
    "Jak velký výzkumný soubor budeme potřebovat, když chceme v druhé studii dosáhnout síly testu nejméně 0.9."
   ]
  },
  {
   "cell_type": "code",
   "execution_count": 8,
   "id": "66068882",
   "metadata": {},
   "outputs": [
    {
     "data": {
      "text/plain": [
       "[(3, 0.05),\n",
       " (4, 0.11496054655952234),\n",
       " (5, 0.1823437153174399),\n",
       " (6, 0.25017490480439053),\n",
       " (7, 0.31692203910859956),\n",
       " (8, 0.3814337620700983),\n",
       " (9, 0.4428801450866833),\n",
       " (10, 0.5006977541920752),\n",
       " (11, 0.5545401034807789),\n",
       " (12, 0.6042339361668162),\n",
       " (13, 0.6497413680851258),\n",
       " (14, 0.6911276580991801),\n",
       " (15, 0.7285342012158654),\n",
       " (16, 0.7621562460578178),\n",
       " (17, 0.7922247975300507),\n",
       " (18, 0.8189921617503759),\n",
       " (19, 0.8427206112315568),\n",
       " (20, 0.8636736846773463),\n",
       " (21, 0.8821096808195004),\n",
       " (22, 0.8982769546320045),\n",
       " (23, 0.9124106736405626),\n",
       " (24, 0.9247307396469191),\n",
       " (25, 0.9354406255911316),\n",
       " (26, 0.9447269176754294),\n",
       " (27, 0.95275938890495),\n",
       " (28, 0.959691461803988),\n",
       " (29, 0.9656609453872083)]"
      ]
     },
     "execution_count": 8,
     "metadata": {},
     "output_type": "execute_result"
    }
   ],
   "source": [
    "n = np.arange(3, 30)\n",
    "\n",
    "power = z_power(rho, alpha, n)\n",
    "list(zip(n, power))"
   ]
  },
  {
   "cell_type": "markdown",
   "id": "ceaf8fad",
   "metadata": {},
   "source": [
    "23"
   ]
  }
 ],
 "metadata": {
  "kernelspec": {
   "display_name": "Python 3 (ipykernel)",
   "language": "python",
   "name": "python3"
  },
  "language_info": {
   "codemirror_mode": {
    "name": "ipython",
    "version": 3
   },
   "file_extension": ".py",
   "mimetype": "text/x-python",
   "name": "python",
   "nbconvert_exporter": "python",
   "pygments_lexer": "ipython3",
   "version": "3.10.0"
  }
 },
 "nbformat": 4,
 "nbformat_minor": 5
}
