{
 "cells": [
  {
   "cell_type": "code",
   "execution_count": 4,
   "id": "6c5a32af",
   "metadata": {},
   "outputs": [],
   "source": [
    "import pandas as pd\n",
    "import numpy as np\n",
    "from scipy import stats\n",
    "import matplotlib.pyplot as plt\n",
    "import plotly.express as px\n",
    "import plotly.graph_objects as go\n",
    "import tabulate\n",
    "from collections import  namedtuple"
   ]
  },
  {
   "cell_type": "code",
   "execution_count": 5,
   "id": "03dc2e3e",
   "metadata": {},
   "outputs": [
    {
     "data": {
      "text/html": [
       "<div>\n",
       "<style scoped>\n",
       "    .dataframe tbody tr th:only-of-type {\n",
       "        vertical-align: middle;\n",
       "    }\n",
       "\n",
       "    .dataframe tbody tr th {\n",
       "        vertical-align: top;\n",
       "    }\n",
       "\n",
       "    .dataframe thead th {\n",
       "        text-align: right;\n",
       "    }\n",
       "</style>\n",
       "<table border=\"1\" class=\"dataframe\">\n",
       "  <thead>\n",
       "    <tr style=\"text-align: right;\">\n",
       "      <th></th>\n",
       "      <th>Fakulta</th>\n",
       "      <th>AQ</th>\n",
       "    </tr>\n",
       "    <tr>\n",
       "      <th>#</th>\n",
       "      <th></th>\n",
       "      <th></th>\n",
       "    </tr>\n",
       "  </thead>\n",
       "  <tbody>\n",
       "    <tr>\n",
       "      <th>1</th>\n",
       "      <td>LF</td>\n",
       "      <td>20</td>\n",
       "    </tr>\n",
       "    <tr>\n",
       "      <th>5</th>\n",
       "      <td>FF</td>\n",
       "      <td>30</td>\n",
       "    </tr>\n",
       "    <tr>\n",
       "      <th>7</th>\n",
       "      <td>FF</td>\n",
       "      <td>19</td>\n",
       "    </tr>\n",
       "    <tr>\n",
       "      <th>11</th>\n",
       "      <td>FTK</td>\n",
       "      <td>8</td>\n",
       "    </tr>\n",
       "    <tr>\n",
       "      <th>15</th>\n",
       "      <td>PedF</td>\n",
       "      <td>6</td>\n",
       "    </tr>\n",
       "    <tr>\n",
       "      <th>...</th>\n",
       "      <td>...</td>\n",
       "      <td>...</td>\n",
       "    </tr>\n",
       "    <tr>\n",
       "      <th>977</th>\n",
       "      <td>PrF</td>\n",
       "      <td>12</td>\n",
       "    </tr>\n",
       "    <tr>\n",
       "      <th>986</th>\n",
       "      <td>CMTF</td>\n",
       "      <td>30</td>\n",
       "    </tr>\n",
       "    <tr>\n",
       "      <th>988</th>\n",
       "      <td>PrF</td>\n",
       "      <td>12</td>\n",
       "    </tr>\n",
       "    <tr>\n",
       "      <th>992</th>\n",
       "      <td>PedF</td>\n",
       "      <td>19</td>\n",
       "    </tr>\n",
       "    <tr>\n",
       "      <th>1000</th>\n",
       "      <td>PrF</td>\n",
       "      <td>17</td>\n",
       "    </tr>\n",
       "  </tbody>\n",
       "</table>\n",
       "<p>300 rows × 2 columns</p>\n",
       "</div>"
      ],
      "text/plain": [
       "     Fakulta  AQ\n",
       "#               \n",
       "1         LF  20\n",
       "5         FF  30\n",
       "7         FF  19\n",
       "11       FTK   8\n",
       "15      PedF   6\n",
       "...      ...  ..\n",
       "977      PrF  12\n",
       "986     CMTF  30\n",
       "988      PrF  12\n",
       "992     PedF  19\n",
       "1000     PrF  17\n",
       "\n",
       "[300 rows x 2 columns]"
      ]
     },
     "execution_count": 5,
     "metadata": {},
     "output_type": "execute_result"
    }
   ],
   "source": [
    "df = pd.read_csv(\"data.csv\", index_col=0, delimiter=\";\")\n",
    "df"
   ]
  },
  {
   "cell_type": "code",
   "execution_count": 6,
   "id": "8e60e7fa",
   "metadata": {},
   "outputs": [
    {
     "data": {
      "text/html": [
       "<div>\n",
       "<style scoped>\n",
       "    .dataframe tbody tr th:only-of-type {\n",
       "        vertical-align: middle;\n",
       "    }\n",
       "\n",
       "    .dataframe tbody tr th {\n",
       "        vertical-align: top;\n",
       "    }\n",
       "\n",
       "    .dataframe thead th {\n",
       "        text-align: right;\n",
       "    }\n",
       "</style>\n",
       "<table border=\"1\" class=\"dataframe\">\n",
       "  <thead>\n",
       "    <tr style=\"text-align: right;\">\n",
       "      <th></th>\n",
       "      <th>AQ</th>\n",
       "    </tr>\n",
       "  </thead>\n",
       "  <tbody>\n",
       "    <tr>\n",
       "      <th>count</th>\n",
       "      <td>300.000000</td>\n",
       "    </tr>\n",
       "    <tr>\n",
       "      <th>mean</th>\n",
       "      <td>17.960000</td>\n",
       "    </tr>\n",
       "    <tr>\n",
       "      <th>std</th>\n",
       "      <td>6.932431</td>\n",
       "    </tr>\n",
       "    <tr>\n",
       "      <th>min</th>\n",
       "      <td>5.000000</td>\n",
       "    </tr>\n",
       "    <tr>\n",
       "      <th>25%</th>\n",
       "      <td>12.000000</td>\n",
       "    </tr>\n",
       "    <tr>\n",
       "      <th>50%</th>\n",
       "      <td>17.000000</td>\n",
       "    </tr>\n",
       "    <tr>\n",
       "      <th>75%</th>\n",
       "      <td>22.250000</td>\n",
       "    </tr>\n",
       "    <tr>\n",
       "      <th>max</th>\n",
       "      <td>35.000000</td>\n",
       "    </tr>\n",
       "  </tbody>\n",
       "</table>\n",
       "</div>"
      ],
      "text/plain": [
       "               AQ\n",
       "count  300.000000\n",
       "mean    17.960000\n",
       "std      6.932431\n",
       "min      5.000000\n",
       "25%     12.000000\n",
       "50%     17.000000\n",
       "75%     22.250000\n",
       "max     35.000000"
      ]
     },
     "execution_count": 6,
     "metadata": {},
     "output_type": "execute_result"
    }
   ],
   "source": [
    "df.describe()"
   ]
  },
  {
   "cell_type": "code",
   "execution_count": null,
   "id": "df6cb109",
   "metadata": {
    "scrolled": true
   },
   "outputs": [],
   "source": [
    "from autoviz.AutoViz_Class import AutoViz_Class\n",
    "%matplotlib inline\n",
    "AV = AutoViz_Class()\n",
    "dfte = AV.AutoViz(\"data.csv\", sep=\";\")"
   ]
  },
  {
   "cell_type": "markdown",
   "id": "f20a1996",
   "metadata": {},
   "source": [
    "Statistical tests scipy: https://docs.scipy.org/doc/scipy/reference/stats.html#statistical-tests\n"
   ]
  },
  {
   "cell_type": "markdown",
   "id": "90b7f825",
   "metadata": {},
   "source": [
    "# Úkol 10: ANOVA\n",
    "V minulosti jsme se již seznámili s teorií empatizace a systematizace Simona Barona-Cohena. Z jeho poznatků by mělo vyplývat to, že jedinci, u kterých se ve větší míře vyskytují (subklinické) autistické rysy, by měli být více přitahovaní exaktními, teoretickými obory a technickými obory. Oproti tomu, jedinci s nižší mírou těchto rysů, budou orientování spíše na druhé lidi a humanitní obory.\n",
    "\n",
    "Rozsáhlé skupině studentů UPOL jsme administrovali dotazník subklinického autismu (AQ). U studentů bylo mimoto sledováno, jakou navštěvují fakultu. U AQ předpokládejme normální rozdělení.\n",
    "\n",
    "Před začátkem testování vyřaďte respondenty, kteří neuvedli, jakou fakultu navštěvují. Dále, pokud zjistíte, že některá fakulta je zastoupena méně než 10 studenty, tak tyto studenty z analýzy vyřaďte a s jejich fakultou nepočítejte.\n",
    "\n",
    "Pozn.: U Tukeyho testu v tomto cvičení nepoužívejte adaptaci pro nestejné skupiny (Spjotvoll & Stoline, 1973), kterou program nabízí.\n",
    "\n",
    "====================================================="
   ]
  },
  {
   "cell_type": "code",
   "execution_count": 4,
   "id": "70eef3c6",
   "metadata": {},
   "outputs": [
    {
     "data": {
      "text/plain": [
       "Fakulta\n",
       "CMTF     7\n",
       "FF      97\n",
       "FTK     12\n",
       "FZV      6\n",
       "LF      24\n",
       "PF      22\n",
       "PedF    36\n",
       "PrF     75\n",
       "NaN     21\n",
       "dtype: int64"
      ]
     },
     "execution_count": 4,
     "metadata": {},
     "output_type": "execute_result"
    }
   ],
   "source": [
    "df.groupby(\"Fakulta\", dropna=False).size()"
   ]
  },
  {
   "cell_type": "code",
   "execution_count": 5,
   "id": "2fe25be3",
   "metadata": {},
   "outputs": [
    {
     "data": {
      "text/html": [
       "<div>\n",
       "<style scoped>\n",
       "    .dataframe tbody tr th:only-of-type {\n",
       "        vertical-align: middle;\n",
       "    }\n",
       "\n",
       "    .dataframe tbody tr th {\n",
       "        vertical-align: top;\n",
       "    }\n",
       "\n",
       "    .dataframe thead tr th {\n",
       "        text-align: left;\n",
       "    }\n",
       "\n",
       "    .dataframe thead tr:last-of-type th {\n",
       "        text-align: right;\n",
       "    }\n",
       "</style>\n",
       "<table border=\"1\" class=\"dataframe\">\n",
       "  <thead>\n",
       "    <tr>\n",
       "      <th></th>\n",
       "      <th colspan=\"3\" halign=\"left\">AQ</th>\n",
       "    </tr>\n",
       "    <tr>\n",
       "      <th></th>\n",
       "      <th>size</th>\n",
       "      <th>mean</th>\n",
       "      <th>std</th>\n",
       "    </tr>\n",
       "    <tr>\n",
       "      <th>Fakulta</th>\n",
       "      <th></th>\n",
       "      <th></th>\n",
       "      <th></th>\n",
       "    </tr>\n",
       "  </thead>\n",
       "  <tbody>\n",
       "    <tr>\n",
       "      <th>FF</th>\n",
       "      <td>97</td>\n",
       "      <td>18.515464</td>\n",
       "      <td>6.788645</td>\n",
       "    </tr>\n",
       "    <tr>\n",
       "      <th>FTK</th>\n",
       "      <td>12</td>\n",
       "      <td>13.750000</td>\n",
       "      <td>7.225271</td>\n",
       "    </tr>\n",
       "    <tr>\n",
       "      <th>LF</th>\n",
       "      <td>24</td>\n",
       "      <td>16.083333</td>\n",
       "      <td>7.198530</td>\n",
       "    </tr>\n",
       "    <tr>\n",
       "      <th>PF</th>\n",
       "      <td>22</td>\n",
       "      <td>16.363636</td>\n",
       "      <td>6.035967</td>\n",
       "    </tr>\n",
       "    <tr>\n",
       "      <th>PedF</th>\n",
       "      <td>36</td>\n",
       "      <td>17.444444</td>\n",
       "      <td>6.652366</td>\n",
       "    </tr>\n",
       "    <tr>\n",
       "      <th>PrF</th>\n",
       "      <td>75</td>\n",
       "      <td>19.786667</td>\n",
       "      <td>6.996705</td>\n",
       "    </tr>\n",
       "  </tbody>\n",
       "</table>\n",
       "</div>"
      ],
      "text/plain": [
       "          AQ                     \n",
       "        size       mean       std\n",
       "Fakulta                          \n",
       "FF        97  18.515464  6.788645\n",
       "FTK       12  13.750000  7.225271\n",
       "LF        24  16.083333  7.198530\n",
       "PF        22  16.363636  6.035967\n",
       "PedF      36  17.444444  6.652366\n",
       "PrF       75  19.786667  6.996705"
      ]
     },
     "execution_count": 5,
     "metadata": {},
     "output_type": "execute_result"
    }
   ],
   "source": [
    "df_filter = df\n",
    "# Remove subjects not assigned to any Faculty\n",
    "df_filter = df_filter.loc[~df_filter[\"Fakulta\"].isna()]\n",
    "\n",
    "# Remove faculties with nr responses < 10 \n",
    "df_filter = df_filter.loc[~df_filter[\"Fakulta\"].isin([\"CMTF\", \"FZV\"])]\n",
    "\n",
    "df_filter.groupby(\"Fakulta\", dropna=False).agg([\"size\", \"mean\", \"std\"])\n"
   ]
  },
  {
   "cell_type": "markdown",
   "id": "399bf614",
   "metadata": {},
   "source": [
    "Pomocí ANOVy ověřte, zdali průměrné výsledek v AQ souvisí s fakultou, kterou jedinec navštěvuje. Uveďte nalezenou hodnotu statistiky F."
   ]
  },
  {
   "cell_type": "code",
   "execution_count": 6,
   "id": "442b5626",
   "metadata": {},
   "outputs": [
    {
     "data": {
      "text/plain": [
       "F_onewayResult(statistic=2.729355061073364, pvalue=0.020091309136077862)"
      ]
     },
     "execution_count": 6,
     "metadata": {},
     "output_type": "execute_result"
    }
   ],
   "source": [
    "group_names = list(df_filter[\"Fakulta\"].unique())\n",
    "group_samples_list = []\n",
    "for group_name in group_names:\n",
    "    group_samples = list(df_filter.query(f\"Fakulta == '{group_name}'\")[\"AQ\"])\n",
    "    group_samples_list.append(group_samples)\n",
    "\n",
    "group_samples_list\n",
    "\n",
    "stats.f_oneway(*group_samples_list)\n"
   ]
  },
  {
   "cell_type": "markdown",
   "id": "c0a41188",
   "metadata": {},
   "source": [
    "(Skripta, str. 118)"
   ]
  },
  {
   "cell_type": "markdown",
   "id": "fe8df518",
   "metadata": {},
   "source": [
    "Scheffého testem prozkoumejte rozdíly mezi skupinami. Jaké hodnotě se rovná nejnižší pozorovaná p-hodnota?"
   ]
  },
  {
   "cell_type": "code",
   "execution_count": 7,
   "id": "ce4f22de",
   "metadata": {},
   "outputs": [
    {
     "data": {
      "text/html": [
       "<div>\n",
       "<style scoped>\n",
       "    .dataframe tbody tr th:only-of-type {\n",
       "        vertical-align: middle;\n",
       "    }\n",
       "\n",
       "    .dataframe tbody tr th {\n",
       "        vertical-align: top;\n",
       "    }\n",
       "\n",
       "    .dataframe thead th {\n",
       "        text-align: right;\n",
       "    }\n",
       "</style>\n",
       "<table border=\"1\" class=\"dataframe\">\n",
       "  <thead>\n",
       "    <tr style=\"text-align: right;\">\n",
       "      <th></th>\n",
       "      <th>LF</th>\n",
       "      <th>FF</th>\n",
       "      <th>FTK</th>\n",
       "      <th>PedF</th>\n",
       "      <th>PrF</th>\n",
       "      <th>PF</th>\n",
       "    </tr>\n",
       "  </thead>\n",
       "  <tbody>\n",
       "    <tr>\n",
       "      <th>LF</th>\n",
       "      <td>1.000000</td>\n",
       "      <td>0.785110</td>\n",
       "      <td>0.967446</td>\n",
       "      <td>0.989135</td>\n",
       "      <td>0.377812</td>\n",
       "      <td>0.999997</td>\n",
       "    </tr>\n",
       "    <tr>\n",
       "      <th>FF</th>\n",
       "      <td>0.785110</td>\n",
       "      <td>1.000000</td>\n",
       "      <td>0.394572</td>\n",
       "      <td>0.985669</td>\n",
       "      <td>0.916540</td>\n",
       "      <td>0.878098</td>\n",
       "    </tr>\n",
       "    <tr>\n",
       "      <th>FTK</th>\n",
       "      <td>0.967446</td>\n",
       "      <td>0.394572</td>\n",
       "      <td>1.000000</td>\n",
       "      <td>0.755962</td>\n",
       "      <td>0.155958</td>\n",
       "      <td>0.950387</td>\n",
       "    </tr>\n",
       "    <tr>\n",
       "      <th>PedF</th>\n",
       "      <td>0.989135</td>\n",
       "      <td>0.985669</td>\n",
       "      <td>0.755962</td>\n",
       "      <td>1.000000</td>\n",
       "      <td>0.721288</td>\n",
       "      <td>0.996739</td>\n",
       "    </tr>\n",
       "    <tr>\n",
       "      <th>PrF</th>\n",
       "      <td>0.377812</td>\n",
       "      <td>0.916540</td>\n",
       "      <td>0.155958</td>\n",
       "      <td>0.721288</td>\n",
       "      <td>1.000000</td>\n",
       "      <td>0.512222</td>\n",
       "    </tr>\n",
       "    <tr>\n",
       "      <th>PF</th>\n",
       "      <td>0.999997</td>\n",
       "      <td>0.878098</td>\n",
       "      <td>0.950387</td>\n",
       "      <td>0.996739</td>\n",
       "      <td>0.512222</td>\n",
       "      <td>1.000000</td>\n",
       "    </tr>\n",
       "  </tbody>\n",
       "</table>\n",
       "</div>"
      ],
      "text/plain": [
       "            LF        FF       FTK      PedF       PrF        PF\n",
       "LF    1.000000  0.785110  0.967446  0.989135  0.377812  0.999997\n",
       "FF    0.785110  1.000000  0.394572  0.985669  0.916540  0.878098\n",
       "FTK   0.967446  0.394572  1.000000  0.755962  0.155958  0.950387\n",
       "PedF  0.989135  0.985669  0.755962  1.000000  0.721288  0.996739\n",
       "PrF   0.377812  0.916540  0.155958  0.721288  1.000000  0.512222\n",
       "PF    0.999997  0.878098  0.950387  0.996739  0.512222  1.000000"
      ]
     },
     "execution_count": 7,
     "metadata": {},
     "output_type": "execute_result"
    }
   ],
   "source": [
    "# Scheffe's test is not available in scipy, \n",
    "# using test from scikit_posthocs instead\n",
    "import scikit_posthocs\n",
    "\n",
    "results = scikit_posthocs.posthoc_scheffe(df_filter, val_col=\"AQ\", group_col=\"Fakulta\")\n",
    "results\n"
   ]
  },
  {
   "cell_type": "code",
   "execution_count": 8,
   "id": "03a9f6a8",
   "metadata": {},
   "outputs": [
    {
     "data": {
      "text/plain": [
       "0.15595757187325832"
      ]
     },
     "execution_count": 8,
     "metadata": {},
     "output_type": "execute_result"
    }
   ],
   "source": [
    "np.min(results.values)"
   ]
  },
  {
   "cell_type": "markdown",
   "id": "46403a36",
   "metadata": {},
   "source": [
    "Tukeyho HSD testem prozkoumejte rozdíly mez skupinami. Jaké hodnotě se rovná nejnižší pozorovaná p-hodnota?"
   ]
  },
  {
   "cell_type": "code",
   "execution_count": 9,
   "id": "3f28ef97",
   "metadata": {},
   "outputs": [
    {
     "name": "stdout",
     "output_type": "stream",
     "text": [
      "['LF', 'FF', 'FTK', 'PedF', 'PrF', 'PF']\n"
     ]
    }
   ],
   "source": [
    "print(group_names)"
   ]
  },
  {
   "cell_type": "code",
   "execution_count": 10,
   "id": "6e5796ec",
   "metadata": {},
   "outputs": [
    {
     "data": {
      "text/plain": [
       "array([[1.        , 0.62428872, 0.92813904, 0.97440022, 0.19286639,\n",
       "        0.9999927 ],\n",
       "       [0.62428872, 1.        , 0.20591183, 0.96668823, 0.83148492,\n",
       "        0.76568714],\n",
       "       [0.92813904, 0.20591183, 1.        , 0.5841658 , 0.05399431,\n",
       "        0.8942538 ],\n",
       "       [0.97440022, 0.96668823, 0.5841658 , 1.        , 0.53867653,\n",
       "        0.99197469],\n",
       "       [0.19286639, 0.83148492, 0.05399431, 0.53867653, 1.        ,\n",
       "        0.30786109],\n",
       "       [0.9999927 , 0.76568714, 0.8942538 , 0.99197469, 0.30786109,\n",
       "        1.        ]])"
      ]
     },
     "execution_count": 10,
     "metadata": {},
     "output_type": "execute_result"
    }
   ],
   "source": [
    "results = stats.tukey_hsd(*group_samples_list)\n",
    "results.statistic\n",
    "results.pvalue"
   ]
  },
  {
   "cell_type": "code",
   "execution_count": 11,
   "id": "1fba623b",
   "metadata": {},
   "outputs": [
    {
     "data": {
      "text/plain": [
       "0.0539943062379179"
      ]
     },
     "execution_count": 11,
     "metadata": {},
     "output_type": "execute_result"
    }
   ],
   "source": [
    "np.min(results.pvalue)"
   ]
  },
  {
   "cell_type": "markdown",
   "id": "106ee123",
   "metadata": {},
   "source": [
    "Pomocí Leveneova testu ověřte hypotézu o existenci rozdílů v rozptylech skórů AQ u jednotlivých skupin z předešlého bodu. Uveďte nalezenou hodnotu statistiky F."
   ]
  },
  {
   "cell_type": "code",
   "execution_count": 12,
   "id": "9b4a1251",
   "metadata": {},
   "outputs": [
    {
     "data": {
      "text/plain": [
       "LeveneResult(statistic=0.07912492909500432, pvalue=0.995395459395527)"
      ]
     },
     "execution_count": 12,
     "metadata": {},
     "output_type": "execute_result"
    }
   ],
   "source": [
    "stats.levene(*group_samples_list, center=\"mean\")"
   ]
  },
  {
   "cell_type": "markdown",
   "id": "717cb9d0",
   "metadata": {},
   "source": [
    "Pomocí Welchova testu ověřte, zdali průměrný výsledek v AQ souvisí s fakultou, kterou jedinec navštěvuje. Uveďte F statistiku."
   ]
  },
  {
   "cell_type": "code",
   "execution_count": 13,
   "id": "fa8f64a6",
   "metadata": {},
   "outputs": [
    {
     "data": {
      "text/plain": [
       "F_onewayResult(statistic=2.51501828979903, pvalue=0.13499216983826456)"
      ]
     },
     "execution_count": 13,
     "metadata": {},
     "output_type": "execute_result"
    }
   ],
   "source": [
    "def welch_anova_np(*args, var_equal=False):\n",
    "    # https://svn.r-project.org/R/trunk/src/library/stats/R/oneway.test.R\n",
    "    # translated from R Welch ANOVA (not assuming equal variance)\n",
    "\n",
    "    F_onewayResult = namedtuple('F_onewayResult', ('statistic', 'pvalue'))\n",
    "\n",
    "    args = [np.asarray(arg, dtype=float) for arg in args]\n",
    "    k = len(args)\n",
    "    ni =np.array([len(arg) for arg in args])\n",
    "    mi =np.array([np.mean(arg) for arg in args])\n",
    "    vi =np.array([np.var(arg,ddof=1) for arg in args])\n",
    "    wi = ni/vi\n",
    "\n",
    "    tmp =sum((1-wi/sum(wi))**2 / (ni-1))\n",
    "    tmp /= (k**2 -1)\n",
    "\n",
    "    dfbn = k - 1\n",
    "    dfwn = 1 / (3 * tmp)\n",
    "\n",
    "    m = sum(mi*wi) / sum(wi)\n",
    "    f = sum(wi * (mi - m)**2) /((dfbn) * (1 + 2 * (dfbn - 1) * tmp))\n",
    "    prob = stats.f.sf(dfbn, dfwn, f)   # equivalent to stats.f.sf\n",
    "    return F_onewayResult(f, prob)\n",
    "\n",
    "welch_anova_np(*group_samples_list)"
   ]
  }
 ],
 "metadata": {
  "kernelspec": {
   "display_name": "Python 3 (ipykernel)",
   "language": "python",
   "name": "python3"
  },
  "language_info": {
   "codemirror_mode": {
    "name": "ipython",
    "version": 3
   },
   "file_extension": ".py",
   "mimetype": "text/x-python",
   "name": "python",
   "nbconvert_exporter": "python",
   "pygments_lexer": "ipython3",
   "version": "3.10.0"
  }
 },
 "nbformat": 4,
 "nbformat_minor": 5
}
