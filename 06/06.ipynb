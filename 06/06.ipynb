{
 "cells": [
  {
   "cell_type": "code",
   "execution_count": null,
   "id": "1684010b",
   "metadata": {},
   "outputs": [],
   "source": [
    "import pandas as pd\n",
    "import numpy as np\n",
    "from scipy import stats\n",
    "import matplotlib.pyplot as plt\n",
    "import plotly.express as px\n",
    "import plotly.graph_objects as go"
   ]
  },
  {
   "cell_type": "code",
   "execution_count": null,
   "id": "6a36c6c6",
   "metadata": {},
   "outputs": [],
   "source": [
    "df = pd.read_csv(\"data.csv\", index_col=0, delimiter=\";\")\n",
    "df[\"diff\"] = df[\"Druhe_mereni\"] - df[\"Prvni_mereni\"]\n",
    "df"
   ]
  },
  {
   "cell_type": "code",
   "execution_count": null,
   "id": "d2fa551a",
   "metadata": {},
   "outputs": [],
   "source": [
    "df_control = df.query(\"Skupina == 0\")\n",
    "df_exp = df.query(\"Skupina == 1\")"
   ]
  },
  {
   "cell_type": "code",
   "execution_count": null,
   "id": "3f657c55",
   "metadata": {},
   "outputs": [],
   "source": [
    "df_control.describe()"
   ]
  },
  {
   "cell_type": "code",
   "execution_count": null,
   "id": "2a48b115",
   "metadata": {},
   "outputs": [],
   "source": [
    "df_exp.describe()"
   ]
  },
  {
   "cell_type": "markdown",
   "id": "a9863b41",
   "metadata": {},
   "source": [
    "Statistical tests scipy: https://docs.scipy.org/doc/scipy/reference/stats.html#statistical-tests\n"
   ]
  },
  {
   "cell_type": "markdown",
   "id": "4cb853a4",
   "metadata": {},
   "source": [
    "# Úkol 6: T-testy\n",
    "Zkoumáme, zdali námi navržený kognitivní trénink vede ke zmírnění příznaků demence u seniorů s touto diagnózou. Jelikož kromě samotného programu zde můžou mít blahodárný účinek i nespecifické faktory (např. samotný čas strávený komunikací s pacientem), zvolili jsme design s kontrolní skupinou. Zatímco experimentální skupina dostávala kognitivní trénink, skupina kontrolní trávila čas jinými aktivitami. Pacienty nebylo možné do skupin rozlosovat, při rozdělování jsme však usilovali o vyrovnané skupiny. U každého pacienta byly před začátkem a po skončení programu vyšetřeny jeho kognitivní schopnosti pomocí testu. Nalezené počty bodů jsou uvedeny v tabulce níže (čím více bodů, tím lepší schopnosti); jedničkou je značena experimentální skupina, nulou kontrolní.\n",
    "\n",
    "U sledovaných náhodných veličin předpokládejme normální rozdělení a shodu rozptylů mezi skupinami. Není-li řečeno jinak, uvádějte hodnotu statistiky t bez znaménka.\n",
    "\n",
    "Instrukce k odeslání obrázku najdete v poznámce níže. Budete-li odesílat obrázek těsně před deadlinem, může se stát, že již nebudete mít možnost si jej v případě zamítnutí opravit.\n",
    "\n",
    "====================================================="
   ]
  },
  {
   "cell_type": "markdown",
   "id": "9ec2b91e",
   "metadata": {},
   "source": [
    "Mezi pacienty zařazenými do kontrolní a experimentální skupiny existuje rozdíl již kognitivních schopnostech již před zahájením programu (v pretestu)."
   ]
  },
  {
   "cell_type": "code",
   "execution_count": null,
   "id": "fd27c4bf",
   "metadata": {},
   "outputs": [],
   "source": [
    "a = df_control[\"Prvni_mereni\"].values\n",
    "b = df_exp[\"Prvni_mereni\"].values\n",
    "\n",
    "stats.ttest_ind(a, b, alternative=\"two-sided\")"
   ]
  },
  {
   "cell_type": "markdown",
   "id": "235f2a32",
   "metadata": {},
   "source": [
    "Po skončení programu skórují pacienti z experimentální skupiny v testu kognitivních schopností výše než pacienti z kontrolní skupiny."
   ]
  },
  {
   "cell_type": "markdown",
   "id": "39e2d942",
   "metadata": {},
   "source": [
    "greater’: the mean of the distribution underlying the first sample is greater than the mean of the distribution underlying the second sample."
   ]
  },
  {
   "cell_type": "code",
   "execution_count": null,
   "id": "afec4cf5",
   "metadata": {},
   "outputs": [],
   "source": [
    "a = df_exp[\"Druhe_mereni\"].values\n",
    "b = df_control[\"Druhe_mereni\"].values\n",
    "\n",
    "stats.ttest_ind(a, b, alternative=\"greater\")"
   ]
  },
  {
   "cell_type": "markdown",
   "id": "6e70acf1",
   "metadata": {},
   "source": [
    "Absolvování tréninku zvyšuje skóre získané v testu kognitivních schopností."
   ]
  },
  {
   "cell_type": "code",
   "execution_count": null,
   "id": "678bbe60",
   "metadata": {},
   "outputs": [],
   "source": [
    "a = df_exp[\"Druhe_mereni\"].values\n",
    "b = df_exp[\"Prvni_mereni\"].values\n",
    "\n",
    "stats.ttest_rel(a, b, alternative=\"greater\")"
   ]
  },
  {
   "cell_type": "markdown",
   "id": "12cfe439",
   "metadata": {},
   "source": [
    "Absolvování aktivit učených pro kontrolní skupinu zvyšuje skóre získané v testu kognitivních schopností."
   ]
  },
  {
   "cell_type": "code",
   "execution_count": null,
   "id": "dbd50ff2",
   "metadata": {},
   "outputs": [],
   "source": [
    "a = df_control[\"Druhe_mereni\"].values\n",
    "b = df_control[\"Prvni_mereni\"].values\n",
    "\n",
    "stats.ttest_rel(a, b, alternative=\"greater\")"
   ]
  },
  {
   "cell_type": "markdown",
   "id": "28da7de4",
   "metadata": {},
   "source": [
    "Velikost zlepšení kognitivních schopností je v experimentální skupině vyšší než ve skupině kontrolní"
   ]
  },
  {
   "cell_type": "code",
   "execution_count": null,
   "id": "e1b058bb",
   "metadata": {},
   "outputs": [],
   "source": [
    "a = df_exp[\"diff\"].values\n",
    "b = df_control[\"diff\"].values\n",
    "\n",
    "stats.ttest_ind(a, b, alternative=\"greater\")"
   ]
  },
  {
   "cell_type": "markdown",
   "id": "66f847b8",
   "metadata": {},
   "source": [
    "O kolik směrodatných odchylek se experimentální skupina zlepšila? K výpočtu míry účinku použijte směrodatnou odchylku z celého souboru v pretestu. (Jedná se o přesnější odhad, než kdybychom použili data jen z experimentální skupiny.)"
   ]
  },
  {
   "cell_type": "code",
   "execution_count": null,
   "id": "2cc7c9ff",
   "metadata": {},
   "outputs": [],
   "source": [
    "d_mean = np.mean(df_exp[\"diff\"].values)\n",
    "mu_0 = 0\n",
    "\n",
    "std = np.std(df[\"Prvni_mereni\"], ddof=1)\n",
    "\n",
    "effect_size = (d_mean - mu_0) / std\n",
    "effect_size"
   ]
  },
  {
   "cell_type": "markdown",
   "id": "c2623c69",
   "metadata": {},
   "source": [
    "Vytvořte graf s 95% konfidenčními intervaly, z nějž můžeme přehledně vyčíst odpovědi na první 4 hypotézy a od oka srovnat míru zlepšení mezi skupinami. Nezapomeňte na popisky os a legendu. (Tento úkol možná bude vyžadovat přeorganizování datová tabulky, použití jiných softwarů a jistou dávku kreativity. Výsledek by mohl vypadat třeba takto, ale fantazii se meze nekladou.)"
   ]
  },
  {
   "cell_type": "code",
   "execution_count": null,
   "id": "4c840aad",
   "metadata": {},
   "outputs": [],
   "source": [
    "def get_mean_and_error(values, alpha):\n",
    "    n = len(values)\n",
    "    mean = np.mean(values)\n",
    "    sem = stats.sem(values)\n",
    "    q = 1-alpha/2\n",
    "    error = stats.t.ppf(q=q, loc=0, scale=sem, df=n-1)\n",
    "    interval_1 = stats.t.interval(alpha=1-alpha, loc=mean, scale=sem, df=n-1)\n",
    "    interval_2 = (mean - error, mean+error)\n",
    "    # print(f\"{mean=}, {error=}, {interval_1=}, {interval_2=}\")\n",
    "    return mean, error\n",
    "\n",
    "x = [\"Pre-test\", \"Post-test\"]\n",
    "\n",
    "mean_1, error_1 = get_mean_and_error(df_control[\"Prvni_mereni\"], alpha=0.05)\n",
    "mean_2, error_2 = get_mean_and_error(df_control[\"Druhe_mereni\"], alpha=0.05)\n",
    "\n",
    "fig = go.Figure()\n",
    "fig.add_trace(go.Bar(\n",
    "    name='Kontrolní',\n",
    "    x=x, y=[mean_1, mean_2],\n",
    "    error_y=dict(type='data', array=[error_1, error_2])\n",
    "))\n",
    "\n",
    "mean_1, error_1 = get_mean_and_error(df_exp[\"Prvni_mereni\"], alpha=0.05)\n",
    "mean_2, error_2 = get_mean_and_error(df_exp[\"Druhe_mereni\"], alpha=0.05)\n",
    "\n",
    "fig.add_trace(go.Bar(\n",
    "    name='Experimentální',\n",
    "    x=x, y=[mean_1, mean_2],\n",
    "    error_y=dict(type='data', array=[error_1, error_2])\n",
    "))\n",
    "fig.update_layout(\n",
    "    barmode='group', \n",
    "    yaxis_title=\"Počet bodů v kognitivním testu\",\n",
    "    legend_title=\"Skupina\",\n",
    "    title=\"Vliv kognitivního tréninku na kognitivní schopnosti <br>u seniorů s demencí\"\n",
    ")\n",
    "fig.show()\n",
    "fig.write_image(\"06_chart.png\",  scale=2)"
   ]
  },
  {
   "cell_type": "code",
   "execution_count": null,
   "id": "c555c347",
   "metadata": {},
   "outputs": [],
   "source": []
  },
  {
   "cell_type": "code",
   "execution_count": null,
   "id": "f437ef52",
   "metadata": {},
   "outputs": [],
   "source": []
  }
 ],
 "metadata": {
  "kernelspec": {
   "display_name": "Python 3 (ipykernel)",
   "language": "python",
   "name": "python3"
  },
  "language_info": {
   "codemirror_mode": {
    "name": "ipython",
    "version": 3
   },
   "file_extension": ".py",
   "mimetype": "text/x-python",
   "name": "python",
   "nbconvert_exporter": "python",
   "pygments_lexer": "ipython3",
   "version": "3.10.0"
  }
 },
 "nbformat": 4,
 "nbformat_minor": 5
}
