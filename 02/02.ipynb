{
 "cells": [
  {
   "cell_type": "code",
   "execution_count": 5,
   "id": "3fb3f803",
   "metadata": {},
   "outputs": [],
   "source": [
    "import pandas as pd\n",
    "import numpy as np\n",
    "from scipy import stats\n",
    "import matplotlib.pyplot as plt"
   ]
  },
  {
   "cell_type": "code",
   "execution_count": 6,
   "id": "340eb507",
   "metadata": {},
   "outputs": [
    {
     "data": {
      "text/html": [
       "<div>\n",
       "<style scoped>\n",
       "    .dataframe tbody tr th:only-of-type {\n",
       "        vertical-align: middle;\n",
       "    }\n",
       "\n",
       "    .dataframe tbody tr th {\n",
       "        vertical-align: top;\n",
       "    }\n",
       "\n",
       "    .dataframe thead th {\n",
       "        text-align: right;\n",
       "    }\n",
       "</style>\n",
       "<table border=\"1\" class=\"dataframe\">\n",
       "  <thead>\n",
       "    <tr style=\"text-align: right;\">\n",
       "      <th></th>\n",
       "      <th>Neuroticismus</th>\n",
       "      <th>Extraverze</th>\n",
       "    </tr>\n",
       "    <tr>\n",
       "      <th>#</th>\n",
       "      <th></th>\n",
       "      <th></th>\n",
       "    </tr>\n",
       "  </thead>\n",
       "  <tbody>\n",
       "    <tr>\n",
       "      <th>36</th>\n",
       "      <td>10</td>\n",
       "      <td>33</td>\n",
       "    </tr>\n",
       "    <tr>\n",
       "      <th>40</th>\n",
       "      <td>21</td>\n",
       "      <td>31</td>\n",
       "    </tr>\n",
       "    <tr>\n",
       "      <th>48</th>\n",
       "      <td>16</td>\n",
       "      <td>32</td>\n",
       "    </tr>\n",
       "    <tr>\n",
       "      <th>59</th>\n",
       "      <td>32</td>\n",
       "      <td>23</td>\n",
       "    </tr>\n",
       "    <tr>\n",
       "      <th>82</th>\n",
       "      <td>26</td>\n",
       "      <td>30</td>\n",
       "    </tr>\n",
       "    <tr>\n",
       "      <th>118</th>\n",
       "      <td>38</td>\n",
       "      <td>28</td>\n",
       "    </tr>\n",
       "    <tr>\n",
       "      <th>141</th>\n",
       "      <td>21</td>\n",
       "      <td>35</td>\n",
       "    </tr>\n",
       "    <tr>\n",
       "      <th>157</th>\n",
       "      <td>45</td>\n",
       "      <td>30</td>\n",
       "    </tr>\n",
       "    <tr>\n",
       "      <th>205</th>\n",
       "      <td>30</td>\n",
       "      <td>29</td>\n",
       "    </tr>\n",
       "    <tr>\n",
       "      <th>266</th>\n",
       "      <td>16</td>\n",
       "      <td>42</td>\n",
       "    </tr>\n",
       "    <tr>\n",
       "      <th>318</th>\n",
       "      <td>6</td>\n",
       "      <td>37</td>\n",
       "    </tr>\n",
       "    <tr>\n",
       "      <th>344</th>\n",
       "      <td>24</td>\n",
       "      <td>25</td>\n",
       "    </tr>\n",
       "    <tr>\n",
       "      <th>347</th>\n",
       "      <td>16</td>\n",
       "      <td>37</td>\n",
       "    </tr>\n",
       "    <tr>\n",
       "      <th>351</th>\n",
       "      <td>12</td>\n",
       "      <td>41</td>\n",
       "    </tr>\n",
       "    <tr>\n",
       "      <th>404</th>\n",
       "      <td>12</td>\n",
       "      <td>32</td>\n",
       "    </tr>\n",
       "    <tr>\n",
       "      <th>409</th>\n",
       "      <td>33</td>\n",
       "      <td>27</td>\n",
       "    </tr>\n",
       "    <tr>\n",
       "      <th>515</th>\n",
       "      <td>15</td>\n",
       "      <td>37</td>\n",
       "    </tr>\n",
       "    <tr>\n",
       "      <th>516</th>\n",
       "      <td>36</td>\n",
       "      <td>32</td>\n",
       "    </tr>\n",
       "    <tr>\n",
       "      <th>520</th>\n",
       "      <td>21</td>\n",
       "      <td>22</td>\n",
       "    </tr>\n",
       "    <tr>\n",
       "      <th>522</th>\n",
       "      <td>27</td>\n",
       "      <td>39</td>\n",
       "    </tr>\n",
       "    <tr>\n",
       "      <th>633</th>\n",
       "      <td>30</td>\n",
       "      <td>16</td>\n",
       "    </tr>\n",
       "    <tr>\n",
       "      <th>715</th>\n",
       "      <td>18</td>\n",
       "      <td>36</td>\n",
       "    </tr>\n",
       "    <tr>\n",
       "      <th>767</th>\n",
       "      <td>33</td>\n",
       "      <td>15</td>\n",
       "    </tr>\n",
       "    <tr>\n",
       "      <th>780</th>\n",
       "      <td>24</td>\n",
       "      <td>16</td>\n",
       "    </tr>\n",
       "    <tr>\n",
       "      <th>799</th>\n",
       "      <td>34</td>\n",
       "      <td>31</td>\n",
       "    </tr>\n",
       "    <tr>\n",
       "      <th>822</th>\n",
       "      <td>14</td>\n",
       "      <td>33</td>\n",
       "    </tr>\n",
       "    <tr>\n",
       "      <th>849</th>\n",
       "      <td>31</td>\n",
       "      <td>34</td>\n",
       "    </tr>\n",
       "    <tr>\n",
       "      <th>902</th>\n",
       "      <td>30</td>\n",
       "      <td>33</td>\n",
       "    </tr>\n",
       "    <tr>\n",
       "      <th>905</th>\n",
       "      <td>32</td>\n",
       "      <td>13</td>\n",
       "    </tr>\n",
       "    <tr>\n",
       "      <th>988</th>\n",
       "      <td>28</td>\n",
       "      <td>32</td>\n",
       "    </tr>\n",
       "  </tbody>\n",
       "</table>\n",
       "</div>"
      ],
      "text/plain": [
       "     Neuroticismus  Extraverze\n",
       "#                             \n",
       "36              10          33\n",
       "40              21          31\n",
       "48              16          32\n",
       "59              32          23\n",
       "82              26          30\n",
       "118             38          28\n",
       "141             21          35\n",
       "157             45          30\n",
       "205             30          29\n",
       "266             16          42\n",
       "318              6          37\n",
       "344             24          25\n",
       "347             16          37\n",
       "351             12          41\n",
       "404             12          32\n",
       "409             33          27\n",
       "515             15          37\n",
       "516             36          32\n",
       "520             21          22\n",
       "522             27          39\n",
       "633             30          16\n",
       "715             18          36\n",
       "767             33          15\n",
       "780             24          16\n",
       "799             34          31\n",
       "822             14          33\n",
       "849             31          34\n",
       "902             30          33\n",
       "905             32          13\n",
       "988             28          32"
      ]
     },
     "execution_count": 6,
     "metadata": {},
     "output_type": "execute_result"
    }
   ],
   "source": [
    "df = pd.read_csv(\"data.csv\", index_col=0, delimiter=\";\")\n",
    "df"
   ]
  },
  {
   "cell_type": "code",
   "execution_count": 7,
   "id": "5adad3be",
   "metadata": {},
   "outputs": [
    {
     "data": {
      "text/html": [
       "<div>\n",
       "<style scoped>\n",
       "    .dataframe tbody tr th:only-of-type {\n",
       "        vertical-align: middle;\n",
       "    }\n",
       "\n",
       "    .dataframe tbody tr th {\n",
       "        vertical-align: top;\n",
       "    }\n",
       "\n",
       "    .dataframe thead th {\n",
       "        text-align: right;\n",
       "    }\n",
       "</style>\n",
       "<table border=\"1\" class=\"dataframe\">\n",
       "  <thead>\n",
       "    <tr style=\"text-align: right;\">\n",
       "      <th></th>\n",
       "      <th>Neuroticismus</th>\n",
       "      <th>Extraverze</th>\n",
       "    </tr>\n",
       "  </thead>\n",
       "  <tbody>\n",
       "    <tr>\n",
       "      <th>count</th>\n",
       "      <td>30.000000</td>\n",
       "      <td>30.000000</td>\n",
       "    </tr>\n",
       "    <tr>\n",
       "      <th>mean</th>\n",
       "      <td>24.366667</td>\n",
       "      <td>30.033333</td>\n",
       "    </tr>\n",
       "    <tr>\n",
       "      <th>std</th>\n",
       "      <td>9.463117</td>\n",
       "      <td>7.595295</td>\n",
       "    </tr>\n",
       "    <tr>\n",
       "      <th>min</th>\n",
       "      <td>6.000000</td>\n",
       "      <td>13.000000</td>\n",
       "    </tr>\n",
       "    <tr>\n",
       "      <th>25%</th>\n",
       "      <td>16.000000</td>\n",
       "      <td>27.250000</td>\n",
       "    </tr>\n",
       "    <tr>\n",
       "      <th>50%</th>\n",
       "      <td>25.000000</td>\n",
       "      <td>32.000000</td>\n",
       "    </tr>\n",
       "    <tr>\n",
       "      <th>75%</th>\n",
       "      <td>31.750000</td>\n",
       "      <td>34.750000</td>\n",
       "    </tr>\n",
       "    <tr>\n",
       "      <th>max</th>\n",
       "      <td>45.000000</td>\n",
       "      <td>42.000000</td>\n",
       "    </tr>\n",
       "  </tbody>\n",
       "</table>\n",
       "</div>"
      ],
      "text/plain": [
       "       Neuroticismus  Extraverze\n",
       "count      30.000000   30.000000\n",
       "mean       24.366667   30.033333\n",
       "std         9.463117    7.595295\n",
       "min         6.000000   13.000000\n",
       "25%        16.000000   27.250000\n",
       "50%        25.000000   32.000000\n",
       "75%        31.750000   34.750000\n",
       "max        45.000000   42.000000"
      ]
     },
     "execution_count": 7,
     "metadata": {},
     "output_type": "execute_result"
    }
   ],
   "source": [
    "df.describe()"
   ]
  },
  {
   "cell_type": "markdown",
   "id": "4870aecd",
   "metadata": {},
   "source": [
    "# Úkol 2: Intervaly spolehlivosti\n",
    "U třiceti lidí jsme měřili míru jejich extraverze a jejich neuroticismu. U obou veličin předpokládáme normální rozdělení. Stanovte následující intervalové odhady.\n",
    "\n",
    "====================================="
   ]
  },
  {
   "cell_type": "markdown",
   "id": "c894e027",
   "metadata": {},
   "source": [
    "Stanovte 80% oboustranný konfidenční interval pro střední hodnotu míry extraverze."
   ]
  },
  {
   "cell_type": "code",
   "execution_count": 8,
   "id": "a77a2c92",
   "metadata": {},
   "outputs": [
    {
     "data": {
      "text/plain": [
       "(28.214762000386507, 31.851904657187305)"
      ]
     },
     "execution_count": 8,
     "metadata": {},
     "output_type": "execute_result"
    }
   ],
   "source": [
    "def conf_interval_for_mean(alpha, x):\n",
    "    n = len(x)\n",
    "    mu = np.mean(x)\n",
    "    scale = stats.sem(x)\n",
    "    return stats.t.interval(alpha, loc=mu, scale=scale, df=n-1)\n",
    "\n",
    "conf_interval_for_mean(alpha=0.8, x=df[\"Extraverze\"])\n"
   ]
  },
  {
   "cell_type": "markdown",
   "id": "3bd56d41",
   "metadata": {},
   "source": [
    "Stanovte 95% horní mez odhadu (jednostranný konfidenční interval) pro střední hodnotu míry neuroticismu."
   ]
  },
  {
   "cell_type": "code",
   "execution_count": 10,
   "id": "45eb3579",
   "metadata": {},
   "outputs": [
    {
     "data": {
      "text/plain": [
       "27.302283769465358"
      ]
     },
     "execution_count": 10,
     "metadata": {},
     "output_type": "execute_result"
    }
   ],
   "source": [
    "x = df[\"Neuroticismus\"]\n",
    "n=len(df)\n",
    "mu = np.mean(x)\n",
    "scale = stats.sem(x)\n",
    "mu + scale * stats.t.ppf(0.95, df=n-1)"
   ]
  },
  {
   "cell_type": "markdown",
   "id": "cd1e2a16",
   "metadata": {},
   "source": [
    "Stanovte 99% oboustranný konfidenční interval pro směrodatnou odchylku míry extraverze."
   ]
  },
  {
   "cell_type": "code",
   "execution_count": 6,
   "id": "476c0de9",
   "metadata": {},
   "outputs": [
    {
     "name": "stdout",
     "output_type": "stream",
     "text": [
      "31.966120539735268 127.50153823814415\n",
      "5.653858906953309 11.29165790476067\n"
     ]
    }
   ],
   "source": [
    "x = df[\"Extraverze\"]\n",
    "alpha = 0.01               # significance level = 5%\n",
    "n = len(x)                 # sample sizes\n",
    "s2 = np.var(x, ddof=1)     # sample variance\n",
    "dof = n - 1                 # degrees of freedom\n",
    "\n",
    "upper = (n - 1) * s2 / stats.chi2.ppf(alpha / 2, dof)\n",
    "lower = (n - 1) * s2 / stats.chi2.ppf(1 - alpha / 2, dof)\n",
    "print(lower, upper)\n",
    "print(np.sqrt(lower), np.sqrt(upper))"
   ]
  },
  {
   "cell_type": "markdown",
   "id": "8dc632ea",
   "metadata": {},
   "source": [
    "Stanovte 95% horní mez odhadu (jednostranný konfidenční) pro rozptyl míry neuroticismu."
   ]
  },
  {
   "cell_type": "code",
   "execution_count": 9,
   "id": "7e43d6fe",
   "metadata": {},
   "outputs": [
    {
     "name": "stdout",
     "output_type": "stream",
     "text": [
      "146.65196325031246\n"
     ]
    }
   ],
   "source": [
    "x = df[\"Neuroticismus\"]\n",
    "alpha = 0.05               # significance level = 5%\n",
    "n = len(x)                 # sample sizes\n",
    "s2 = np.var(x, ddof=1)     # sample variance\n",
    "dof = n - 1                # degrees of freedom\n",
    "\n",
    "upper = (n - 1) * s2 / stats.chi2.ppf(alpha, dof)\n",
    "print(upper)"
   ]
  }
 ],
 "metadata": {
  "kernelspec": {
   "display_name": "Python 3 (ipykernel)",
   "language": "python",
   "name": "python3"
  },
  "language_info": {
   "codemirror_mode": {
    "name": "ipython",
    "version": 3
   },
   "file_extension": ".py",
   "mimetype": "text/x-python",
   "name": "python",
   "nbconvert_exporter": "python",
   "pygments_lexer": "ipython3",
   "version": "3.10.0"
  }
 },
 "nbformat": 4,
 "nbformat_minor": 5
}
