{
 "cells": [
  {
   "cell_type": "code",
   "execution_count": 1,
   "id": "62113dbe",
   "metadata": {},
   "outputs": [],
   "source": [
    "import pandas as pd\n",
    "import numpy as np\n",
    "from scipy import stats\n",
    "import matplotlib.pyplot as plt"
   ]
  },
  {
   "cell_type": "code",
   "execution_count": 2,
   "id": "3d72aabe",
   "metadata": {},
   "outputs": [
    {
     "data": {
      "text/html": [
       "<div>\n",
       "<style scoped>\n",
       "    .dataframe tbody tr th:only-of-type {\n",
       "        vertical-align: middle;\n",
       "    }\n",
       "\n",
       "    .dataframe tbody tr th {\n",
       "        vertical-align: top;\n",
       "    }\n",
       "\n",
       "    .dataframe thead th {\n",
       "        text-align: right;\n",
       "    }\n",
       "</style>\n",
       "<table border=\"1\" class=\"dataframe\">\n",
       "  <thead>\n",
       "    <tr style=\"text-align: right;\">\n",
       "      <th></th>\n",
       "      <th>Pohlavi</th>\n",
       "      <th>Vek</th>\n",
       "    </tr>\n",
       "    <tr>\n",
       "      <th>#</th>\n",
       "      <th></th>\n",
       "      <th></th>\n",
       "    </tr>\n",
       "  </thead>\n",
       "  <tbody>\n",
       "    <tr>\n",
       "      <th>1</th>\n",
       "      <td>1</td>\n",
       "      <td>22</td>\n",
       "    </tr>\n",
       "    <tr>\n",
       "      <th>7</th>\n",
       "      <td>0</td>\n",
       "      <td>23</td>\n",
       "    </tr>\n",
       "    <tr>\n",
       "      <th>11</th>\n",
       "      <td>1</td>\n",
       "      <td>23</td>\n",
       "    </tr>\n",
       "    <tr>\n",
       "      <th>15</th>\n",
       "      <td>0</td>\n",
       "      <td>25</td>\n",
       "    </tr>\n",
       "    <tr>\n",
       "      <th>16</th>\n",
       "      <td>0</td>\n",
       "      <td>20</td>\n",
       "    </tr>\n",
       "    <tr>\n",
       "      <th>...</th>\n",
       "      <td>...</td>\n",
       "      <td>...</td>\n",
       "    </tr>\n",
       "    <tr>\n",
       "      <th>960</th>\n",
       "      <td>0</td>\n",
       "      <td>22</td>\n",
       "    </tr>\n",
       "    <tr>\n",
       "      <th>967</th>\n",
       "      <td>0</td>\n",
       "      <td>26</td>\n",
       "    </tr>\n",
       "    <tr>\n",
       "      <th>968</th>\n",
       "      <td>0</td>\n",
       "      <td>24</td>\n",
       "    </tr>\n",
       "    <tr>\n",
       "      <th>988</th>\n",
       "      <td>1</td>\n",
       "      <td>25</td>\n",
       "    </tr>\n",
       "    <tr>\n",
       "      <th>992</th>\n",
       "      <td>0</td>\n",
       "      <td>19</td>\n",
       "    </tr>\n",
       "  </tbody>\n",
       "</table>\n",
       "<p>200 rows × 2 columns</p>\n",
       "</div>"
      ],
      "text/plain": [
       "     Pohlavi  Vek\n",
       "#                \n",
       "1          1   22\n",
       "7          0   23\n",
       "11         1   23\n",
       "15         0   25\n",
       "16         0   20\n",
       "..       ...  ...\n",
       "960        0   22\n",
       "967        0   26\n",
       "968        0   24\n",
       "988        1   25\n",
       "992        0   19\n",
       "\n",
       "[200 rows x 2 columns]"
      ]
     },
     "execution_count": 2,
     "metadata": {},
     "output_type": "execute_result"
    }
   ],
   "source": [
    "df = pd.read_csv(\"data.csv\", index_col=0, delimiter=\";\")\n",
    "df"
   ]
  },
  {
   "cell_type": "markdown",
   "id": "07b12647",
   "metadata": {},
   "source": [
    "# Úkol 1: Popisné statistiky\n",
    "Dotazníkového šetření se zúčastnilo 200 studentů. Kromě řady proměnných relevantních v psychologickém výzkumu jsme se všech zúčastněných ptali na pohlaví (1 = muž, 0 = žena) a na jejich věk v celých letech. Při popisu souboru by nás mohly zajímat níže uvedené charakteristiky. Vypočítejte jejich hodnoty."
   ]
  },
  {
   "cell_type": "code",
   "execution_count": 3,
   "id": "06a6e85e",
   "metadata": {},
   "outputs": [
    {
     "data": {
      "text/plain": [
       "(array([53., 97., 33.,  8.,  3.,  3.,  1.,  1.,  0.,  1.]),\n",
       " array([18., 21., 24., 27., 30., 33., 36., 39., 42., 45., 48.]),\n",
       " <BarContainer object of 10 artists>)"
      ]
     },
     "execution_count": 3,
     "metadata": {},
     "output_type": "execute_result"
    },
    {
     "data": {
      "image/png": "[encoded data removed]",
      "text/plain": [
       "<Figure size 432x288 with 1 Axes>"
      ]
     },
     "metadata": {
      "needs_background": "light"
     },
     "output_type": "display_data"
    }
   ],
   "source": [
    "plt.hist(df[\"Vek\"])"
   ]
  },
  {
   "cell_type": "markdown",
   "id": "b1f40750",
   "metadata": {},
   "source": [
    "Průměrný věk"
   ]
  },
  {
   "cell_type": "code",
   "execution_count": 4,
   "id": "648843dc",
   "metadata": {},
   "outputs": [
    {
     "data": {
      "text/plain": [
       "22.71"
      ]
     },
     "execution_count": 4,
     "metadata": {},
     "output_type": "execute_result"
    }
   ],
   "source": [
    "np.mean(df[\"Vek\"])"
   ]
  },
  {
   "cell_type": "markdown",
   "id": "4cbb25de",
   "metadata": {},
   "source": [
    "Směrodatná odchylka věku"
   ]
  },
  {
   "cell_type": "code",
   "execution_count": 5,
   "id": "1fdee2e9",
   "metadata": {},
   "outputs": [
    {
     "data": {
      "text/plain": [
       "3.620974632116629"
      ]
     },
     "execution_count": 5,
     "metadata": {},
     "output_type": "execute_result"
    }
   ],
   "source": [
    "np.std(df[\"Vek\"], ddof=1)"
   ]
  },
  {
   "cell_type": "markdown",
   "id": "5b33a91c",
   "metadata": {},
   "source": [
    "Koeficient šikmosti pro věk"
   ]
  },
  {
   "cell_type": "code",
   "execution_count": 6,
   "id": "3c1f0e9f",
   "metadata": {},
   "outputs": [
    {
     "data": {
      "text/plain": [
       "3.091622652425959"
      ]
     },
     "execution_count": 6,
     "metadata": {},
     "output_type": "execute_result"
    }
   ],
   "source": [
    "stats.skew(df[\"Vek\"], bias=False)"
   ]
  },
  {
   "cell_type": "markdown",
   "id": "23d212d1",
   "metadata": {},
   "source": [
    "Věk nejstaršího respondenta"
   ]
  },
  {
   "cell_type": "code",
   "execution_count": 7,
   "id": "6dbee9d8",
   "metadata": {},
   "outputs": [
    {
     "data": {
      "text/plain": [
       "48"
      ]
     },
     "execution_count": 7,
     "metadata": {},
     "output_type": "execute_result"
    }
   ],
   "source": [
    "max(df[\"Vek\"])"
   ]
  },
  {
   "cell_type": "markdown",
   "id": "b4d2b7f6",
   "metadata": {},
   "source": [
    "Medián věku"
   ]
  },
  {
   "cell_type": "code",
   "execution_count": 8,
   "id": "97d359b1",
   "metadata": {},
   "outputs": [
    {
     "data": {
      "text/plain": [
       "22.0"
      ]
     },
     "execution_count": 8,
     "metadata": {},
     "output_type": "execute_result"
    }
   ],
   "source": [
    "np.median(df[\"Vek\"])"
   ]
  },
  {
   "cell_type": "markdown",
   "id": "ff6caddc",
   "metadata": {},
   "source": [
    "Mezikvartilové rozpětí věku"
   ]
  },
  {
   "cell_type": "code",
   "execution_count": 12,
   "id": "bf214c53",
   "metadata": {},
   "outputs": [
    {
     "name": "stdout",
     "output_type": "stream",
     "text": [
      "20.0 23.5 3.5\n"
     ]
    }
   ],
   "source": [
    "method = \"hazen\"\n",
    "q1 = np.quantile(df[\"Vek\"], q=0.25, method=method)\n",
    "q3 = np.quantile(df[\"Vek\"], q=0.75, method=method)\n",
    "q_diff = q3 - q1\n",
    "print(q1, q3, q_diff)"
   ]
  },
  {
   "cell_type": "markdown",
   "id": "129a84c8",
   "metadata": {},
   "source": [
    "Relativní četnost žen"
   ]
  },
  {
   "cell_type": "markdown",
   "id": "3dc17d86",
   "metadata": {},
   "source": [
    "Absolutní četnost mužů"
   ]
  },
  {
   "cell_type": "code",
   "execution_count": 10,
   "id": "4a49d172",
   "metadata": {},
   "outputs": [
    {
     "data": {
      "text/html": [
       "<div>\n",
       "<style scoped>\n",
       "    .dataframe tbody tr th:only-of-type {\n",
       "        vertical-align: middle;\n",
       "    }\n",
       "\n",
       "    .dataframe tbody tr th {\n",
       "        vertical-align: top;\n",
       "    }\n",
       "\n",
       "    .dataframe thead th {\n",
       "        text-align: right;\n",
       "    }\n",
       "</style>\n",
       "<table border=\"1\" class=\"dataframe\">\n",
       "  <thead>\n",
       "    <tr style=\"text-align: right;\">\n",
       "      <th></th>\n",
       "      <th>absolute</th>\n",
       "      <th>relative</th>\n",
       "    </tr>\n",
       "    <tr>\n",
       "      <th>Pohlavi</th>\n",
       "      <th></th>\n",
       "      <th></th>\n",
       "    </tr>\n",
       "  </thead>\n",
       "  <tbody>\n",
       "    <tr>\n",
       "      <th>0</th>\n",
       "      <td>156</td>\n",
       "      <td>0.78</td>\n",
       "    </tr>\n",
       "    <tr>\n",
       "      <th>1</th>\n",
       "      <td>44</td>\n",
       "      <td>0.22</td>\n",
       "    </tr>\n",
       "  </tbody>\n",
       "</table>\n",
       "</div>"
      ],
      "text/plain": [
       "         absolute  relative\n",
       "Pohlavi                    \n",
       "0             156      0.78\n",
       "1              44      0.22"
      ]
     },
     "execution_count": 10,
     "metadata": {},
     "output_type": "execute_result"
    }
   ],
   "source": [
    "df2 = df.groupby(\"Pohlavi\").size().to_frame(\"absolute\")\n",
    "df2[\"relative\"] = df2[\"absolute\"] /  sum(df2[\"absolute\"])\n",
    "df2"
   ]
  }
 ],
 "metadata": {
  "kernelspec": {
   "display_name": "Python 3 (ipykernel)",
   "language": "python",
   "name": "python3"
  },
  "language_info": {
   "codemirror_mode": {
    "name": "ipython",
    "version": 3
   },
   "file_extension": ".py",
   "mimetype": "text/x-python",
   "name": "python",
   "nbconvert_exporter": "python",
   "pygments_lexer": "ipython3",
   "version": "3.10.0"
  }
 },
 "nbformat": 4,
 "nbformat_minor": 5
}
