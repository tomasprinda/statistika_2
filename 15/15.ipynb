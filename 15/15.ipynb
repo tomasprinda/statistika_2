{
 "cells": [
  {
   "cell_type": "code",
   "execution_count": 1,
   "id": "6c5a32af",
   "metadata": {},
   "outputs": [],
   "source": [
    "import pandas as pd\n",
    "import numpy as np\n",
    "from scipy import stats\n",
    "import matplotlib.pyplot as plt\n",
    "import plotly.express as px\n",
    "import plotly.graph_objects as go\n",
    "import tabulate\n",
    "from collections import  namedtuple\n",
    "from statsmodels.stats.power import TTestIndPower, TTestPower, zt_ind_solve_power\n",
    "# from autoviz.AutoViz_Class import AutoViz_Class\n",
    "# %matplotlib inline"
   ]
  },
  {
   "cell_type": "markdown",
   "id": "f20a1996",
   "metadata": {},
   "source": [
    "### Odkazy na relevantní materiály\n",
    "- [Statistické testy ve scipy](https://docs.scipy.org/doc/scipy/reference/stats.html#statistical-tests)\n",
    "- [Statsmodels dokumentace](https://www.statsmodels.org/dev/index.html)\n",
    "- [Skripta](https://dostal.vyzkum-psychologie.cz/skripta_statistika.pdf)\n",
    "- [Zadání příkladů](https://dostal.vyzkum-psychologie.cz/stat/index.php)"
   ]
  },
  {
   "cell_type": "markdown",
   "id": "90b7f825",
   "metadata": {},
   "source": [
    "# Úkol 15: Wilcoxonův test a znaménkový test\n",
    "V rámci adiktologického výzkumu byla vznesena hypotéza o tom, že se ceny nejrůznějších nelegálně distribuovaných návykových látek významně liší ve dvou regionech České republiky. Tyto rozdíly by mohly mít vztah k pozorovaným odlišnostem v chování uživatelů těchto látek.\n",
    "\n",
    "Výzkumník proto s pomocí terénních pracovníků zmapoval, za jakou cenu je k dostání jedna jednotka (obvykle gram) každé z osmnácti vybraných návykových látek v jednom a v druhém regionu. Ověřte pomocí neparametrických testů hypotézu o tom, že se ceny v regionech liší a pozorované rozdíly nejsou jen dílem náhody.\n",
    "\n",
    "Osmnáct dvojic zjištěných cen je uvedeno níže. Jako své odpovědi uvádějte oboustranné p-hodnoty.\n",
    "\n",
    "---\n",
    "\n",
    "Načtení a vizualizace dat"
   ]
  },
  {
   "cell_type": "code",
   "execution_count": 4,
   "id": "03dc2e3e",
   "metadata": {},
   "outputs": [
    {
     "data": {
      "text/html": [
       "<div>\n",
       "<style scoped>\n",
       "    .dataframe tbody tr th:only-of-type {\n",
       "        vertical-align: middle;\n",
       "    }\n",
       "\n",
       "    .dataframe tbody tr th {\n",
       "        vertical-align: top;\n",
       "    }\n",
       "\n",
       "    .dataframe thead th {\n",
       "        text-align: right;\n",
       "    }\n",
       "</style>\n",
       "<table border=\"1\" class=\"dataframe\">\n",
       "  <thead>\n",
       "    <tr style=\"text-align: right;\">\n",
       "      <th></th>\n",
       "      <th>Cena_v_regionu_1_(Kc)</th>\n",
       "      <th>Cena_v_regionu_2_(Kc)</th>\n",
       "      <th>diff</th>\n",
       "    </tr>\n",
       "    <tr>\n",
       "      <th>#</th>\n",
       "      <th></th>\n",
       "      <th></th>\n",
       "      <th></th>\n",
       "    </tr>\n",
       "  </thead>\n",
       "  <tbody>\n",
       "    <tr>\n",
       "      <th>36</th>\n",
       "      <td>650</td>\n",
       "      <td>620</td>\n",
       "      <td>30</td>\n",
       "    </tr>\n",
       "    <tr>\n",
       "      <th>40</th>\n",
       "      <td>1530</td>\n",
       "      <td>1660</td>\n",
       "      <td>-130</td>\n",
       "    </tr>\n",
       "    <tr>\n",
       "      <th>48</th>\n",
       "      <td>820</td>\n",
       "      <td>1340</td>\n",
       "      <td>-520</td>\n",
       "    </tr>\n",
       "    <tr>\n",
       "      <th>82</th>\n",
       "      <td>360</td>\n",
       "      <td>700</td>\n",
       "      <td>-340</td>\n",
       "    </tr>\n",
       "    <tr>\n",
       "      <th>205</th>\n",
       "      <td>1530</td>\n",
       "      <td>1350</td>\n",
       "      <td>180</td>\n",
       "    </tr>\n",
       "    <tr>\n",
       "      <th>318</th>\n",
       "      <td>320</td>\n",
       "      <td>640</td>\n",
       "      <td>-320</td>\n",
       "    </tr>\n",
       "    <tr>\n",
       "      <th>344</th>\n",
       "      <td>750</td>\n",
       "      <td>1160</td>\n",
       "      <td>-410</td>\n",
       "    </tr>\n",
       "    <tr>\n",
       "      <th>347</th>\n",
       "      <td>780</td>\n",
       "      <td>790</td>\n",
       "      <td>-10</td>\n",
       "    </tr>\n",
       "    <tr>\n",
       "      <th>409</th>\n",
       "      <td>1270</td>\n",
       "      <td>1940</td>\n",
       "      <td>-670</td>\n",
       "    </tr>\n",
       "    <tr>\n",
       "      <th>515</th>\n",
       "      <td>1290</td>\n",
       "      <td>1680</td>\n",
       "      <td>-390</td>\n",
       "    </tr>\n",
       "    <tr>\n",
       "      <th>522</th>\n",
       "      <td>410</td>\n",
       "      <td>440</td>\n",
       "      <td>-30</td>\n",
       "    </tr>\n",
       "    <tr>\n",
       "      <th>633</th>\n",
       "      <td>130</td>\n",
       "      <td>450</td>\n",
       "      <td>-320</td>\n",
       "    </tr>\n",
       "    <tr>\n",
       "      <th>715</th>\n",
       "      <td>1720</td>\n",
       "      <td>2260</td>\n",
       "      <td>-540</td>\n",
       "    </tr>\n",
       "    <tr>\n",
       "      <th>767</th>\n",
       "      <td>960</td>\n",
       "      <td>560</td>\n",
       "      <td>400</td>\n",
       "    </tr>\n",
       "    <tr>\n",
       "      <th>799</th>\n",
       "      <td>380</td>\n",
       "      <td>1060</td>\n",
       "      <td>-680</td>\n",
       "    </tr>\n",
       "    <tr>\n",
       "      <th>822</th>\n",
       "      <td>910</td>\n",
       "      <td>1310</td>\n",
       "      <td>-400</td>\n",
       "    </tr>\n",
       "    <tr>\n",
       "      <th>849</th>\n",
       "      <td>1040</td>\n",
       "      <td>740</td>\n",
       "      <td>300</td>\n",
       "    </tr>\n",
       "    <tr>\n",
       "      <th>902</th>\n",
       "      <td>1400</td>\n",
       "      <td>1680</td>\n",
       "      <td>-280</td>\n",
       "    </tr>\n",
       "  </tbody>\n",
       "</table>\n",
       "</div>"
      ],
      "text/plain": [
       "     Cena_v_regionu_1_(Kc)  Cena_v_regionu_2_(Kc)  diff\n",
       "#                                                      \n",
       "36                     650                    620    30\n",
       "40                    1530                   1660  -130\n",
       "48                     820                   1340  -520\n",
       "82                     360                    700  -340\n",
       "205                   1530                   1350   180\n",
       "318                    320                    640  -320\n",
       "344                    750                   1160  -410\n",
       "347                    780                    790   -10\n",
       "409                   1270                   1940  -670\n",
       "515                   1290                   1680  -390\n",
       "522                    410                    440   -30\n",
       "633                    130                    450  -320\n",
       "715                   1720                   2260  -540\n",
       "767                    960                    560   400\n",
       "799                    380                   1060  -680\n",
       "822                    910                   1310  -400\n",
       "849                   1040                    740   300\n",
       "902                   1400                   1680  -280"
      ]
     },
     "execution_count": 4,
     "metadata": {},
     "output_type": "execute_result"
    }
   ],
   "source": [
    "df = pd.read_csv(\"data.csv\", index_col=0, delimiter=\";\")\n",
    "df"
   ]
  },
  {
   "cell_type": "code",
   "execution_count": 3,
   "id": "4d4ee47d",
   "metadata": {},
   "outputs": [
    {
     "data": {
      "text/html": [
       "<div>\n",
       "<style scoped>\n",
       "    .dataframe tbody tr th:only-of-type {\n",
       "        vertical-align: middle;\n",
       "    }\n",
       "\n",
       "    .dataframe tbody tr th {\n",
       "        vertical-align: top;\n",
       "    }\n",
       "\n",
       "    .dataframe thead th {\n",
       "        text-align: right;\n",
       "    }\n",
       "</style>\n",
       "<table border=\"1\" class=\"dataframe\">\n",
       "  <thead>\n",
       "    <tr style=\"text-align: right;\">\n",
       "      <th></th>\n",
       "      <th>Cena_v_regionu_1_(Kc)</th>\n",
       "      <th>Cena_v_regionu_2_(Kc)</th>\n",
       "    </tr>\n",
       "  </thead>\n",
       "  <tbody>\n",
       "    <tr>\n",
       "      <th>count</th>\n",
       "      <td>18.000000</td>\n",
       "      <td>18.000000</td>\n",
       "    </tr>\n",
       "    <tr>\n",
       "      <th>mean</th>\n",
       "      <td>902.777778</td>\n",
       "      <td>1132.222222</td>\n",
       "    </tr>\n",
       "    <tr>\n",
       "      <th>std</th>\n",
       "      <td>476.850026</td>\n",
       "      <td>551.239838</td>\n",
       "    </tr>\n",
       "    <tr>\n",
       "      <th>min</th>\n",
       "      <td>130.000000</td>\n",
       "      <td>440.000000</td>\n",
       "    </tr>\n",
       "    <tr>\n",
       "      <th>25%</th>\n",
       "      <td>470.000000</td>\n",
       "      <td>655.000000</td>\n",
       "    </tr>\n",
       "    <tr>\n",
       "      <th>50%</th>\n",
       "      <td>865.000000</td>\n",
       "      <td>1110.000000</td>\n",
       "    </tr>\n",
       "    <tr>\n",
       "      <th>75%</th>\n",
       "      <td>1285.000000</td>\n",
       "      <td>1582.500000</td>\n",
       "    </tr>\n",
       "    <tr>\n",
       "      <th>max</th>\n",
       "      <td>1720.000000</td>\n",
       "      <td>2260.000000</td>\n",
       "    </tr>\n",
       "  </tbody>\n",
       "</table>\n",
       "</div>"
      ],
      "text/plain": [
       "       Cena_v_regionu_1_(Kc)  Cena_v_regionu_2_(Kc)\n",
       "count              18.000000              18.000000\n",
       "mean              902.777778            1132.222222\n",
       "std               476.850026             551.239838\n",
       "min               130.000000             440.000000\n",
       "25%               470.000000             655.000000\n",
       "50%               865.000000            1110.000000\n",
       "75%              1285.000000            1582.500000\n",
       "max              1720.000000            2260.000000"
      ]
     },
     "execution_count": 3,
     "metadata": {},
     "output_type": "execute_result"
    }
   ],
   "source": [
    "df.describe()"
   ]
  },
  {
   "cell_type": "markdown",
   "id": "399bf614",
   "metadata": {},
   "source": [
    "---\n",
    "\n",
    "Ověřte pomocí asymptotického znaménkového testu hypotézu o rozdílu cen. (Použijte korekci na spojitost.)"
   ]
  },
  {
   "cell_type": "code",
   "execution_count": 9,
   "id": "0d2ede85",
   "metadata": {},
   "outputs": [
    {
     "name": "stdout",
     "output_type": "stream",
     "text": [
      "S_plus=4, S_minus=14\n",
      "z=-2.3570226039551585, p=0.018422125454099002\n"
     ]
    }
   ],
   "source": [
    "df[\"diff\"] = df[\"Cena_v_regionu_1_(Kc)\"] - df[\"Cena_v_regionu_2_(Kc)\"]\n",
    "S_plus = sum(df[\"diff\"] > 0)\n",
    "S_minus = sum(df[\"diff\"] < 0)\n",
    "S = min(S_plus, S_minus)\n",
    "n = S_plus + S_minus\n",
    "\n",
    "print(f\"{S_plus=}, {S_minus=}\")\n",
    "\n",
    "z = (2*S - n) / np.sqrt(n)\n",
    "\n",
    "p = stats.norm.cdf(z)\n",
    "p = 2 * min(p, 1-p)\n",
    "\n",
    "print(f\"{z=}, {p=}\")"
   ]
  },
  {
   "cell_type": "code",
   "execution_count": 13,
   "id": "98f25396",
   "metadata": {},
   "outputs": [],
   "source": [
    "# INCORRECT"
   ]
  },
  {
   "cell_type": "markdown",
   "id": "e26a9e17",
   "metadata": {},
   "source": [
    "[(Skripta, str. 148-151)](https://dostal.vyzkum-psychologie.cz/skripta_statistika.pdf#page=148)"
   ]
  },
  {
   "cell_type": "markdown",
   "id": "e1cc478a",
   "metadata": {},
   "source": [
    "Ověřte pomocí přesného znaménkového testu hypotézu o rozdílu cen. (K výpočtu využijte binomické rozdělení.)"
   ]
  },
  {
   "cell_type": "code",
   "execution_count": 12,
   "id": "7ea2b9d7",
   "metadata": {},
   "outputs": [
    {
     "data": {
      "text/plain": [
       "0.0308837890625"
      ]
     },
     "execution_count": 12,
     "metadata": {},
     "output_type": "execute_result"
    }
   ],
   "source": [
    "2 * stats.binom.cdf(k=S, n=n, p=0.5)"
   ]
  },
  {
   "cell_type": "markdown",
   "id": "e46535a1",
   "metadata": {},
   "source": [
    "Ověřte pomocí Wilcoxonova párového testu hypotézu o rozdílu cen. (Nepoužívejte korekci na spojitost ani na případné shody v pořadí.)"
   ]
  },
  {
   "cell_type": "code",
   "execution_count": 24,
   "id": "daad0b10",
   "metadata": {},
   "outputs": [
    {
     "data": {
      "text/plain": [
       "WilcoxonResult(statistic=27.0, pvalue=0.00896453857421875)"
      ]
     },
     "execution_count": 24,
     "metadata": {},
     "output_type": "execute_result"
    }
   ],
   "source": [
    "x = df[\"Cena_v_regionu_1_(Kc)\"]\n",
    "y = df[\"Cena_v_regionu_2_(Kc)\"]\n",
    "stats.wilcoxon(x=x, y=y, correction=False, alternative='two-sided', mode=\"exact\", zero_method=\"wilcox\")\n"
   ]
  },
  {
   "cell_type": "code",
   "execution_count": 25,
   "id": "6d2a6e5c",
   "metadata": {},
   "outputs": [],
   "source": [
    "# INCORRECT"
   ]
  },
  {
   "cell_type": "markdown",
   "id": "4d231fff",
   "metadata": {},
   "source": [
    "[(Skripta, str. 151)](https://dostal.vyzkum-psychologie.cz/skripta_statistika.pdf#page=151)"
   ]
  }
 ],
 "metadata": {
  "kernelspec": {
   "display_name": "Python 3 (ipykernel)",
   "language": "python",
   "name": "python3"
  },
  "language_info": {
   "codemirror_mode": {
    "name": "ipython",
    "version": 3
   },
   "file_extension": ".py",
   "mimetype": "text/x-python",
   "name": "python",
   "nbconvert_exporter": "python",
   "pygments_lexer": "ipython3",
   "version": "3.10.0"
  }
 },
 "nbformat": 4,
 "nbformat_minor": 5
}
