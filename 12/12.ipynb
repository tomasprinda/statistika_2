{
 "cells": [
  {
   "cell_type": "code",
   "execution_count": 1,
   "id": "6c5a32af",
   "metadata": {},
   "outputs": [],
   "source": [
    "import pandas as pd\n",
    "import numpy as np\n",
    "from scipy import stats\n",
    "import matplotlib.pyplot as plt\n",
    "import plotly.express as px\n",
    "import plotly.graph_objects as go\n",
    "import tabulate\n",
    "from collections import  namedtuple"
   ]
  },
  {
   "cell_type": "code",
   "execution_count": 2,
   "id": "03dc2e3e",
   "metadata": {},
   "outputs": [
    {
     "data": {
      "text/html": [
       "<div>\n",
       "<style scoped>\n",
       "    .dataframe tbody tr th:only-of-type {\n",
       "        vertical-align: middle;\n",
       "    }\n",
       "\n",
       "    .dataframe tbody tr th {\n",
       "        vertical-align: top;\n",
       "    }\n",
       "\n",
       "    .dataframe thead th {\n",
       "        text-align: right;\n",
       "    }\n",
       "</style>\n",
       "<table border=\"1\" class=\"dataframe\">\n",
       "  <thead>\n",
       "    <tr style=\"text-align: right;\">\n",
       "      <th></th>\n",
       "      <th>Hruby_skor</th>\n",
       "    </tr>\n",
       "    <tr>\n",
       "      <th>#</th>\n",
       "      <th></th>\n",
       "    </tr>\n",
       "  </thead>\n",
       "  <tbody>\n",
       "    <tr>\n",
       "      <th>1</th>\n",
       "      <td>0</td>\n",
       "    </tr>\n",
       "    <tr>\n",
       "      <th>7</th>\n",
       "      <td>6</td>\n",
       "    </tr>\n",
       "    <tr>\n",
       "      <th>11</th>\n",
       "      <td>9</td>\n",
       "    </tr>\n",
       "    <tr>\n",
       "      <th>15</th>\n",
       "      <td>8</td>\n",
       "    </tr>\n",
       "    <tr>\n",
       "      <th>16</th>\n",
       "      <td>0</td>\n",
       "    </tr>\n",
       "    <tr>\n",
       "      <th>...</th>\n",
       "      <td>...</td>\n",
       "    </tr>\n",
       "    <tr>\n",
       "      <th>960</th>\n",
       "      <td>24</td>\n",
       "    </tr>\n",
       "    <tr>\n",
       "      <th>967</th>\n",
       "      <td>6</td>\n",
       "    </tr>\n",
       "    <tr>\n",
       "      <th>968</th>\n",
       "      <td>2</td>\n",
       "    </tr>\n",
       "    <tr>\n",
       "      <th>988</th>\n",
       "      <td>4</td>\n",
       "    </tr>\n",
       "    <tr>\n",
       "      <th>992</th>\n",
       "      <td>1</td>\n",
       "    </tr>\n",
       "  </tbody>\n",
       "</table>\n",
       "<p>200 rows × 1 columns</p>\n",
       "</div>"
      ],
      "text/plain": [
       "     Hruby_skor\n",
       "#              \n",
       "1             0\n",
       "7             6\n",
       "11            9\n",
       "15            8\n",
       "16            0\n",
       "..          ...\n",
       "960          24\n",
       "967           6\n",
       "968           2\n",
       "988           4\n",
       "992           1\n",
       "\n",
       "[200 rows x 1 columns]"
      ]
     },
     "execution_count": 2,
     "metadata": {},
     "output_type": "execute_result"
    }
   ],
   "source": [
    "df = pd.read_csv(\"data.csv\", index_col=0, delimiter=\";\")\n",
    "df"
   ]
  },
  {
   "cell_type": "code",
   "execution_count": 3,
   "id": "8e60e7fa",
   "metadata": {},
   "outputs": [
    {
     "data": {
      "text/html": [
       "<div>\n",
       "<style scoped>\n",
       "    .dataframe tbody tr th:only-of-type {\n",
       "        vertical-align: middle;\n",
       "    }\n",
       "\n",
       "    .dataframe tbody tr th {\n",
       "        vertical-align: top;\n",
       "    }\n",
       "\n",
       "    .dataframe thead th {\n",
       "        text-align: right;\n",
       "    }\n",
       "</style>\n",
       "<table border=\"1\" class=\"dataframe\">\n",
       "  <thead>\n",
       "    <tr style=\"text-align: right;\">\n",
       "      <th></th>\n",
       "      <th>Hruby_skor</th>\n",
       "    </tr>\n",
       "  </thead>\n",
       "  <tbody>\n",
       "    <tr>\n",
       "      <th>count</th>\n",
       "      <td>200.000000</td>\n",
       "    </tr>\n",
       "    <tr>\n",
       "      <th>mean</th>\n",
       "      <td>7.665000</td>\n",
       "    </tr>\n",
       "    <tr>\n",
       "      <th>std</th>\n",
       "      <td>5.988496</td>\n",
       "    </tr>\n",
       "    <tr>\n",
       "      <th>min</th>\n",
       "      <td>0.000000</td>\n",
       "    </tr>\n",
       "    <tr>\n",
       "      <th>25%</th>\n",
       "      <td>3.000000</td>\n",
       "    </tr>\n",
       "    <tr>\n",
       "      <th>50%</th>\n",
       "      <td>6.000000</td>\n",
       "    </tr>\n",
       "    <tr>\n",
       "      <th>75%</th>\n",
       "      <td>11.000000</td>\n",
       "    </tr>\n",
       "    <tr>\n",
       "      <th>max</th>\n",
       "      <td>29.000000</td>\n",
       "    </tr>\n",
       "  </tbody>\n",
       "</table>\n",
       "</div>"
      ],
      "text/plain": [
       "       Hruby_skor\n",
       "count  200.000000\n",
       "mean     7.665000\n",
       "std      5.988496\n",
       "min      0.000000\n",
       "25%      3.000000\n",
       "50%      6.000000\n",
       "75%     11.000000\n",
       "max     29.000000"
      ]
     },
     "execution_count": 3,
     "metadata": {},
     "output_type": "execute_result"
    }
   ],
   "source": [
    "df.describe()"
   ]
  },
  {
   "cell_type": "markdown",
   "id": "f20a1996",
   "metadata": {},
   "source": [
    "Statistical tests scipy: https://docs.scipy.org/doc/scipy/reference/stats.html#statistical-tests\n"
   ]
  },
  {
   "cell_type": "markdown",
   "id": "90b7f825",
   "metadata": {},
   "source": [
    "# Úkol 12: Zkoumání tvaru rozdělení\n",
    "Testujeme inventář, který má sloužit k ověření přítomnosti patologických úzkostných stavů u dospělých jedinců. Máme k dispozici údaje od 200 zdravých respondentů, na kterých chceme zjistit, jestli celkový skór tohoto inventáře má u zdravé populace alespoň přibližně normální rozdělení.\n",
    "\n",
    "Otestujte hypotézu o tom, že data pochází z normálního rozdělení pomocí Shapirova-Wilkova testu.\n",
    "\n",
    "Nakreslete histogram pozorovaných hrubých skórů. Ujistěte se, že Váš graf je zkonstruován rozumně a přehledně. Kategorií musí být přiměřený počet a jejich hranice (či středy) musí ležet na „pěkných“ hodnotách. Nejnižší kategorie nesmí začínat v záporných číslech, jelikož takovéto zobrazení testového skóre je matoucí.\n",
    "\n",
    "---\n"
   ]
  },
  {
   "cell_type": "markdown",
   "id": "399bf614",
   "metadata": {},
   "source": [
    "Jakou hodnotu Shapir-Wilkovy statistiky W jste nalezli?"
   ]
  },
  {
   "cell_type": "code",
   "execution_count": 5,
   "id": "442b5626",
   "metadata": {},
   "outputs": [
    {
     "data": {
      "text/plain": [
       "ShapiroResult(statistic=0.9236400723457336, pvalue=1.0858761889664947e-08)"
      ]
     },
     "execution_count": 5,
     "metadata": {},
     "output_type": "execute_result"
    }
   ],
   "source": [
    "x = df[\"Hruby_skor\"]\n",
    "stats.shapiro(x)"
   ]
  },
  {
   "cell_type": "markdown",
   "id": "c0a41188",
   "metadata": {},
   "source": [
    "(Skripta, str. 122)"
   ]
  },
  {
   "cell_type": "markdown",
   "id": "fe8df518",
   "metadata": {},
   "source": [
    "Vložte obrázek Vašeho histogramu."
   ]
  },
  {
   "cell_type": "code",
   "execution_count": null,
   "id": "03a9f6a8",
   "metadata": {},
   "outputs": [],
   "source": [
    "df[\"Hruby_skor\"] = df[\"Hruby_skor\"].astype(float)\n",
    "\n",
    "fig = px.histogram(df, x=\"Hruby_skor\", nbins=15, opacity=0.6,\n",
    "                  title=\"Histogram hrubého skóru <br>patologických úzkostných stavů u dospělých jedinců\")\n",
    "fig.update_xaxes(ticks=\"outside\", showgrid=True)\n",
    "fig.update_yaxes(title=\"Četnost\")\n",
    "\n",
    "fig.show()\n",
    "fig.write_image(\"11_chart.png\",  scale=2)\n"
   ]
  }
 ],
 "metadata": {
  "kernelspec": {
   "display_name": "Python 3 (ipykernel)",
   "language": "python",
   "name": "python3"
  },
  "language_info": {
   "codemirror_mode": {
    "name": "ipython",
    "version": 3
   },
   "file_extension": ".py",
   "mimetype": "text/x-python",
   "name": "python",
   "nbconvert_exporter": "python",
   "pygments_lexer": "ipython3",
   "version": "3.10.0"
  }
 },
 "nbformat": 4,
 "nbformat_minor": 5
}
