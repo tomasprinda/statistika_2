{
 "cells": [
  {
   "cell_type": "code",
   "execution_count": 2,
   "id": "1684010b",
   "metadata": {},
   "outputs": [],
   "source": [
    "import pandas as pd\n",
    "import numpy as np\n",
    "from scipy import stats\n",
    "import matplotlib.pyplot as plt\n",
    "import plotly.express as px\n",
    "import plotly.graph_objects as go"
   ]
  },
  {
   "cell_type": "code",
   "execution_count": 3,
   "id": "6a36c6c6",
   "metadata": {},
   "outputs": [
    {
     "data": {
      "text/html": [
       "<div>\n",
       "<style scoped>\n",
       "    .dataframe tbody tr th:only-of-type {\n",
       "        vertical-align: middle;\n",
       "    }\n",
       "\n",
       "    .dataframe tbody tr th {\n",
       "        vertical-align: top;\n",
       "    }\n",
       "\n",
       "    .dataframe thead th {\n",
       "        text-align: right;\n",
       "    }\n",
       "</style>\n",
       "<table border=\"1\" class=\"dataframe\">\n",
       "  <thead>\n",
       "    <tr style=\"text-align: right;\">\n",
       "      <th></th>\n",
       "      <th>Pohlavi</th>\n",
       "      <th>EQ</th>\n",
       "      <th>SQ</th>\n",
       "      <th>AQ</th>\n",
       "    </tr>\n",
       "    <tr>\n",
       "      <th>#</th>\n",
       "      <th></th>\n",
       "      <th></th>\n",
       "      <th></th>\n",
       "      <th></th>\n",
       "    </tr>\n",
       "  </thead>\n",
       "  <tbody>\n",
       "    <tr>\n",
       "      <th>1</th>\n",
       "      <td>1</td>\n",
       "      <td>30</td>\n",
       "      <td>46</td>\n",
       "      <td>20</td>\n",
       "    </tr>\n",
       "    <tr>\n",
       "      <th>11</th>\n",
       "      <td>1</td>\n",
       "      <td>53</td>\n",
       "      <td>45</td>\n",
       "      <td>8</td>\n",
       "    </tr>\n",
       "    <tr>\n",
       "      <th>27</th>\n",
       "      <td>0</td>\n",
       "      <td>50</td>\n",
       "      <td>14</td>\n",
       "      <td>13</td>\n",
       "    </tr>\n",
       "    <tr>\n",
       "      <th>33</th>\n",
       "      <td>1</td>\n",
       "      <td>51</td>\n",
       "      <td>50</td>\n",
       "      <td>17</td>\n",
       "    </tr>\n",
       "    <tr>\n",
       "      <th>36</th>\n",
       "      <td>0</td>\n",
       "      <td>55</td>\n",
       "      <td>31</td>\n",
       "      <td>13</td>\n",
       "    </tr>\n",
       "    <tr>\n",
       "      <th>...</th>\n",
       "      <td>...</td>\n",
       "      <td>...</td>\n",
       "      <td>...</td>\n",
       "      <td>...</td>\n",
       "    </tr>\n",
       "    <tr>\n",
       "      <th>958</th>\n",
       "      <td>0</td>\n",
       "      <td>43</td>\n",
       "      <td>28</td>\n",
       "      <td>17</td>\n",
       "    </tr>\n",
       "    <tr>\n",
       "      <th>960</th>\n",
       "      <td>0</td>\n",
       "      <td>32</td>\n",
       "      <td>13</td>\n",
       "      <td>17</td>\n",
       "    </tr>\n",
       "    <tr>\n",
       "      <th>967</th>\n",
       "      <td>0</td>\n",
       "      <td>43</td>\n",
       "      <td>35</td>\n",
       "      <td>11</td>\n",
       "    </tr>\n",
       "    <tr>\n",
       "      <th>968</th>\n",
       "      <td>0</td>\n",
       "      <td>37</td>\n",
       "      <td>47</td>\n",
       "      <td>15</td>\n",
       "    </tr>\n",
       "    <tr>\n",
       "      <th>988</th>\n",
       "      <td>1</td>\n",
       "      <td>41</td>\n",
       "      <td>50</td>\n",
       "      <td>12</td>\n",
       "    </tr>\n",
       "  </tbody>\n",
       "</table>\n",
       "<p>120 rows × 4 columns</p>\n",
       "</div>"
      ],
      "text/plain": [
       "     Pohlavi  EQ  SQ  AQ\n",
       "#                       \n",
       "1          1  30  46  20\n",
       "11         1  53  45   8\n",
       "27         0  50  14  13\n",
       "33         1  51  50  17\n",
       "36         0  55  31  13\n",
       "..       ...  ..  ..  ..\n",
       "958        0  43  28  17\n",
       "960        0  32  13  17\n",
       "967        0  43  35  11\n",
       "968        0  37  47  15\n",
       "988        1  41  50  12\n",
       "\n",
       "[120 rows x 4 columns]"
      ]
     },
     "execution_count": 3,
     "metadata": {},
     "output_type": "execute_result"
    }
   ],
   "source": [
    "df = pd.read_csv(\"data.csv\", index_col=0, delimiter=\";\")\n",
    "df"
   ]
  },
  {
   "cell_type": "code",
   "execution_count": 4,
   "id": "d2fa551a",
   "metadata": {},
   "outputs": [],
   "source": [
    "df_women = df.query(\"Pohlavi == 0\")\n",
    "df_men = df.query(\"Pohlavi == 1\")"
   ]
  },
  {
   "cell_type": "code",
   "execution_count": 5,
   "id": "3f657c55",
   "metadata": {},
   "outputs": [
    {
     "data": {
      "text/html": [
       "<div>\n",
       "<style scoped>\n",
       "    .dataframe tbody tr th:only-of-type {\n",
       "        vertical-align: middle;\n",
       "    }\n",
       "\n",
       "    .dataframe tbody tr th {\n",
       "        vertical-align: top;\n",
       "    }\n",
       "\n",
       "    .dataframe thead th {\n",
       "        text-align: right;\n",
       "    }\n",
       "</style>\n",
       "<table border=\"1\" class=\"dataframe\">\n",
       "  <thead>\n",
       "    <tr style=\"text-align: right;\">\n",
       "      <th></th>\n",
       "      <th>Pohlavi</th>\n",
       "      <th>EQ</th>\n",
       "      <th>SQ</th>\n",
       "      <th>AQ</th>\n",
       "    </tr>\n",
       "  </thead>\n",
       "  <tbody>\n",
       "    <tr>\n",
       "      <th>count</th>\n",
       "      <td>26.0</td>\n",
       "      <td>26.000000</td>\n",
       "      <td>26.000000</td>\n",
       "      <td>26.000000</td>\n",
       "    </tr>\n",
       "    <tr>\n",
       "      <th>mean</th>\n",
       "      <td>1.0</td>\n",
       "      <td>33.576923</td>\n",
       "      <td>38.192308</td>\n",
       "      <td>20.423077</td>\n",
       "    </tr>\n",
       "    <tr>\n",
       "      <th>std</th>\n",
       "      <td>0.0</td>\n",
       "      <td>10.911180</td>\n",
       "      <td>8.971150</td>\n",
       "      <td>6.694314</td>\n",
       "    </tr>\n",
       "    <tr>\n",
       "      <th>min</th>\n",
       "      <td>1.0</td>\n",
       "      <td>16.000000</td>\n",
       "      <td>20.000000</td>\n",
       "      <td>8.000000</td>\n",
       "    </tr>\n",
       "    <tr>\n",
       "      <th>25%</th>\n",
       "      <td>1.0</td>\n",
       "      <td>27.250000</td>\n",
       "      <td>32.000000</td>\n",
       "      <td>15.250000</td>\n",
       "    </tr>\n",
       "    <tr>\n",
       "      <th>50%</th>\n",
       "      <td>1.0</td>\n",
       "      <td>32.000000</td>\n",
       "      <td>38.000000</td>\n",
       "      <td>20.500000</td>\n",
       "    </tr>\n",
       "    <tr>\n",
       "      <th>75%</th>\n",
       "      <td>1.0</td>\n",
       "      <td>40.750000</td>\n",
       "      <td>44.750000</td>\n",
       "      <td>25.000000</td>\n",
       "    </tr>\n",
       "    <tr>\n",
       "      <th>max</th>\n",
       "      <td>1.0</td>\n",
       "      <td>54.000000</td>\n",
       "      <td>52.000000</td>\n",
       "      <td>33.000000</td>\n",
       "    </tr>\n",
       "  </tbody>\n",
       "</table>\n",
       "</div>"
      ],
      "text/plain": [
       "       Pohlavi         EQ         SQ         AQ\n",
       "count     26.0  26.000000  26.000000  26.000000\n",
       "mean       1.0  33.576923  38.192308  20.423077\n",
       "std        0.0  10.911180   8.971150   6.694314\n",
       "min        1.0  16.000000  20.000000   8.000000\n",
       "25%        1.0  27.250000  32.000000  15.250000\n",
       "50%        1.0  32.000000  38.000000  20.500000\n",
       "75%        1.0  40.750000  44.750000  25.000000\n",
       "max        1.0  54.000000  52.000000  33.000000"
      ]
     },
     "execution_count": 5,
     "metadata": {},
     "output_type": "execute_result"
    }
   ],
   "source": [
    "df_men.describe()"
   ]
  },
  {
   "cell_type": "code",
   "execution_count": 6,
   "id": "2a48b115",
   "metadata": {},
   "outputs": [
    {
     "data": {
      "text/html": [
       "<div>\n",
       "<style scoped>\n",
       "    .dataframe tbody tr th:only-of-type {\n",
       "        vertical-align: middle;\n",
       "    }\n",
       "\n",
       "    .dataframe tbody tr th {\n",
       "        vertical-align: top;\n",
       "    }\n",
       "\n",
       "    .dataframe thead th {\n",
       "        text-align: right;\n",
       "    }\n",
       "</style>\n",
       "<table border=\"1\" class=\"dataframe\">\n",
       "  <thead>\n",
       "    <tr style=\"text-align: right;\">\n",
       "      <th></th>\n",
       "      <th>Pohlavi</th>\n",
       "      <th>EQ</th>\n",
       "      <th>SQ</th>\n",
       "      <th>AQ</th>\n",
       "    </tr>\n",
       "  </thead>\n",
       "  <tbody>\n",
       "    <tr>\n",
       "      <th>count</th>\n",
       "      <td>94.0</td>\n",
       "      <td>94.000000</td>\n",
       "      <td>94.000000</td>\n",
       "      <td>94.000000</td>\n",
       "    </tr>\n",
       "    <tr>\n",
       "      <th>mean</th>\n",
       "      <td>0.0</td>\n",
       "      <td>39.074468</td>\n",
       "      <td>24.372340</td>\n",
       "      <td>16.936170</td>\n",
       "    </tr>\n",
       "    <tr>\n",
       "      <th>std</th>\n",
       "      <td>0.0</td>\n",
       "      <td>10.050667</td>\n",
       "      <td>9.464119</td>\n",
       "      <td>6.960423</td>\n",
       "    </tr>\n",
       "    <tr>\n",
       "      <th>min</th>\n",
       "      <td>0.0</td>\n",
       "      <td>13.000000</td>\n",
       "      <td>8.000000</td>\n",
       "      <td>5.000000</td>\n",
       "    </tr>\n",
       "    <tr>\n",
       "      <th>25%</th>\n",
       "      <td>0.0</td>\n",
       "      <td>33.000000</td>\n",
       "      <td>17.000000</td>\n",
       "      <td>12.000000</td>\n",
       "    </tr>\n",
       "    <tr>\n",
       "      <th>50%</th>\n",
       "      <td>0.0</td>\n",
       "      <td>40.000000</td>\n",
       "      <td>22.000000</td>\n",
       "      <td>16.000000</td>\n",
       "    </tr>\n",
       "    <tr>\n",
       "      <th>75%</th>\n",
       "      <td>0.0</td>\n",
       "      <td>45.750000</td>\n",
       "      <td>31.000000</td>\n",
       "      <td>21.000000</td>\n",
       "    </tr>\n",
       "    <tr>\n",
       "      <th>max</th>\n",
       "      <td>0.0</td>\n",
       "      <td>62.000000</td>\n",
       "      <td>47.000000</td>\n",
       "      <td>35.000000</td>\n",
       "    </tr>\n",
       "  </tbody>\n",
       "</table>\n",
       "</div>"
      ],
      "text/plain": [
       "       Pohlavi         EQ         SQ         AQ\n",
       "count     94.0  94.000000  94.000000  94.000000\n",
       "mean       0.0  39.074468  24.372340  16.936170\n",
       "std        0.0  10.050667   9.464119   6.960423\n",
       "min        0.0  13.000000   8.000000   5.000000\n",
       "25%        0.0  33.000000  17.000000  12.000000\n",
       "50%        0.0  40.000000  22.000000  16.000000\n",
       "75%        0.0  45.750000  31.000000  21.000000\n",
       "max        0.0  62.000000  47.000000  35.000000"
      ]
     },
     "execution_count": 6,
     "metadata": {},
     "output_type": "execute_result"
    }
   ],
   "source": [
    "df_women.describe()"
   ]
  },
  {
   "cell_type": "markdown",
   "id": "a9863b41",
   "metadata": {},
   "source": [
    "Statistical tests scipy: https://docs.scipy.org/doc/scipy/reference/stats.html#statistical-tests\n"
   ]
  },
  {
   "cell_type": "markdown",
   "id": "4cb853a4",
   "metadata": {},
   "source": [
    "# Úkol 7: Welchův test\n",
    "Britský psycholog Simon Baron-Cohen popsal dva osobnostní rysy, které pojmenoval Empatizace (schopnost a sklon rozumět druhým a zajímat se o jejich prožitky) a Systemizace (schopnost a sklon rozumět neživým, kauzálním, technickým soustavám, jako jsou stroje, rovnice či různé klasifikace). Výsledky výzkumů opakovaně ukazují, že v těchto rysech existují genderové rozdíly, které se mimo jiné projevují vyšší mírou projevů subklinického autismu u mužů.\n",
    "\n",
    "Na souboru 120 respondentů platnost těchto výsledků ověřte. Pro každého respondenta máme k dispozici kromě údaje o jeho pohlaví, jeho skóry v dotazníku Systemizace (SQ), Empatizace (EQ) a subklinického autismu (AQ).\n",
    "\n",
    "Předpokládejme, že všechny sledované veličiny mají přibližně normální rozdělení, shoda rozptylů mezi skupinami však není garantována. Není-li řečeno jinak, uvádějte hodnoty testové statistiky t bez znaménka.\n",
    "\n",
    "====================================================="
   ]
  },
  {
   "cell_type": "markdown",
   "id": "9ec2b91e",
   "metadata": {},
   "source": [
    "Průměrné výsledky inventáře EQ jsou rozdílné u mužů a žen."
   ]
  },
  {
   "cell_type": "code",
   "execution_count": 8,
   "id": "fd27c4bf",
   "metadata": {},
   "outputs": [
    {
     "data": {
      "text/plain": [
       "Ttest_indResult(statistic=2.3120916831683576, pvalue=0.02635482364747578)"
      ]
     },
     "execution_count": 8,
     "metadata": {},
     "output_type": "execute_result"
    }
   ],
   "source": [
    "a = df_women[\"EQ\"].values\n",
    "b = df_men[\"EQ\"].values\n",
    "\n",
    "stats.ttest_ind(a, b, equal_var=False, alternative=\"two-sided\")"
   ]
  },
  {
   "cell_type": "markdown",
   "id": "235f2a32",
   "metadata": {},
   "source": [
    "Průměrné výsledky inventáře SQ jsou rozdílné u mužů a žen.."
   ]
  },
  {
   "cell_type": "code",
   "execution_count": 9,
   "id": "afec4cf5",
   "metadata": {},
   "outputs": [
    {
     "data": {
      "text/plain": [
       "Ttest_indResult(statistic=-6.868629049113808, pvalue=2.322515905292222e-08)"
      ]
     },
     "execution_count": 9,
     "metadata": {},
     "output_type": "execute_result"
    }
   ],
   "source": [
    "a = df_women[\"SQ\"].values\n",
    "b = df_men[\"SQ\"].values\n",
    "\n",
    "stats.ttest_ind(a, b, equal_var=False, alternative=\"two-sided\")"
   ]
  },
  {
   "cell_type": "markdown",
   "id": "6e70acf1",
   "metadata": {},
   "source": [
    "Průměrné výsledky inventáře AQ jsou rozdílné u mužů a žen."
   ]
  },
  {
   "cell_type": "code",
   "execution_count": 15,
   "id": "678bbe60",
   "metadata": {},
   "outputs": [
    {
     "data": {
      "text/plain": [
       "Ttest_indResult(statistic=-2.3303034159688205, pvalue=0.02476622098787011)"
      ]
     },
     "execution_count": 15,
     "metadata": {},
     "output_type": "execute_result"
    }
   ],
   "source": [
    "a = df_women[\"AQ\"].values\n",
    "b = df_men[\"AQ\"].values\n",
    "\n",
    "aq_test = stats.ttest_ind(a, b, equal_var=False, alternative=\"two-sided\")\n",
    "aq_test"
   ]
  },
  {
   "cell_type": "markdown",
   "id": "c8e3b594",
   "metadata": {},
   "source": [
    "Pro výše uvedenou statistiku uveďte počet stupňů volnosti."
   ]
  },
  {
   "cell_type": "code",
   "execution_count": 14,
   "id": "564897a5",
   "metadata": {},
   "outputs": [
    {
     "data": {
      "text/plain": [
       "41.19631524609479"
      ]
     },
     "execution_count": 14,
     "metadata": {},
     "output_type": "execute_result"
    }
   ],
   "source": [
    "n1 = len(a)\n",
    "n2 = len(b)\n",
    "\n",
    "v1 = np.var(a, ddof=1)\n",
    "v2 = np.var(b, ddof=1)\n",
    "\n",
    "vn1 = v1 / n1\n",
    "vn2 = v2 / n2\n",
    "\n",
    "df = (vn1 + vn2)**2 / (vn1**2 / (n1 - 1) + vn2**2 / (n2 - 1))\n",
    "df"
   ]
  },
  {
   "cell_type": "markdown",
   "id": "7b74b842",
   "metadata": {},
   "source": [
    "O kolik směrodatných odchylek se liší muži a ženy v AQ. Spočítejte Cohenovo d (viz definice ve skriptech). Napište jeho hodnotu včetně znaménka - plusem označte vyšší skór mužů, mínusem žen."
   ]
  },
  {
   "cell_type": "code",
   "execution_count": 19,
   "id": "ebfef6c9",
   "metadata": {},
   "outputs": [
    {
     "data": {
      "text/plain": [
       "-0.5163598833719936"
      ]
     },
     "execution_count": 19,
     "metadata": {},
     "output_type": "execute_result"
    }
   ],
   "source": [
    "cohen_d = aq_test.statistic * np.sqrt(1/n1 + 1/n2)\n",
    "cohen_d"
   ]
  },
  {
   "cell_type": "code",
   "execution_count": 22,
   "id": "74d0bc57",
   "metadata": {},
   "outputs": [
    {
     "data": {
      "text/plain": [
       "(0.5049901293333348, 6.904900725315606)"
      ]
     },
     "execution_count": 22,
     "metadata": {},
     "output_type": "execute_result"
    }
   ],
   "source": [
    "a = df_men[\"AQ\"].values\n",
    "b = df_women[\"AQ\"].values\n",
    "\n",
    "m1 = np.mean(a)\n",
    "m2 = np.mean(b)\n",
    "\n",
    "n1 = len(a)\n",
    "n2 = len(b)\n",
    "\n",
    "v1 = np.var(a, ddof=1)\n",
    "v2 = np.var(b, ddof=1)\n",
    "\n",
    "var = (v1 * (n1 - 1) + v2 * (n2 - 1)) / (n1 + n2 - 2)\n",
    "std = np.sqrt(var)\n",
    "\n",
    "cohen_d = (m1 - m2) / std\n",
    "cohen_d, std"
   ]
  },
  {
   "cell_type": "markdown",
   "id": "cf6ecf72",
   "metadata": {},
   "source": [
    "The second one is correct"
   ]
  },
  {
   "cell_type": "code",
   "execution_count": null,
   "id": "2b0c9f0a",
   "metadata": {},
   "outputs": [],
   "source": []
  }
 ],
 "metadata": {
  "kernelspec": {
   "display_name": "Python 3 (ipykernel)",
   "language": "python",
   "name": "python3"
  },
  "language_info": {
   "codemirror_mode": {
    "name": "ipython",
    "version": 3
   },
   "file_extension": ".py",
   "mimetype": "text/x-python",
   "name": "python",
   "nbconvert_exporter": "python",
   "pygments_lexer": "ipython3",
   "version": "3.10.0"
  }
 },
 "nbformat": 4,
 "nbformat_minor": 5
}
